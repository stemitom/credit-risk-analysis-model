{
 "cells": [
  {
   "cell_type": "markdown",
   "metadata": {},
   "source": [
    "# Credit Risk Analysis"
   ]
  },
  {
   "cell_type": "markdown",
   "metadata": {},
   "source": [
    "## (1) Data Cleaning"
   ]
  },
  {
   "cell_type": "code",
   "execution_count": 1,
   "metadata": {},
   "outputs": [],
   "source": [
    "import pandas as pd"
   ]
  },
  {
   "cell_type": "markdown",
   "metadata": {},
   "source": [
    "Remember to inclue index_col=0 or it will generate \"unnamed 0\" column"
   ]
  },
  {
   "cell_type": "code",
   "execution_count": 2,
   "metadata": {},
   "outputs": [
    {
     "name": "stderr",
     "output_type": "stream",
     "text": [
      "D:\\Work\\Anaconda\\lib\\site-packages\\IPython\\core\\interactiveshell.py:2785: DtypeWarning: Columns (30,33,34,50,51) have mixed types.Specify dtype option on import or set low_memory=False.\n",
      "  interactivity=interactivity, compiler=compiler, result=result)\n",
      "D:\\Work\\Anaconda\\lib\\site-packages\\numpy\\lib\\arraysetops.py:568: FutureWarning: elementwise comparison failed; returning scalar instead, but in the future will perform elementwise comparison\n",
      "  mask |= (ar1 == a)\n"
     ]
    }
   ],
   "source": [
    "data = pd.read_csv(\"FiveYearData.csv\", index_col=0)"
   ]
  },
  {
   "cell_type": "markdown",
   "metadata": {},
   "source": [
    "select the columns from Original Data File, which are information used for prediction\n",
    "also select the final column:\"Default\" as target labels"
   ]
  },
  {
   "cell_type": "code",
   "execution_count": 3,
   "metadata": {},
   "outputs": [],
   "source": [
    "data = pd.concat([data[data.columns[:26]],data[data.columns[-1]]],1)"
   ]
  },
  {
   "cell_type": "code",
   "execution_count": 4,
   "metadata": {},
   "outputs": [
    {
     "data": {
      "text/html": [
       "<div>\n",
       "<style scoped>\n",
       "    .dataframe tbody tr th:only-of-type {\n",
       "        vertical-align: middle;\n",
       "    }\n",
       "\n",
       "    .dataframe tbody tr th {\n",
       "        vertical-align: top;\n",
       "    }\n",
       "\n",
       "    .dataframe thead th {\n",
       "        text-align: right;\n",
       "    }\n",
       "</style>\n",
       "<table border=\"1\" class=\"dataframe\">\n",
       "  <thead>\n",
       "    <tr style=\"text-align: right;\">\n",
       "      <th></th>\n",
       "      <th>id_loan</th>\n",
       "      <th>fico</th>\n",
       "      <th>dt_first_pi</th>\n",
       "      <th>flag_fthb</th>\n",
       "      <th>dt_matr</th>\n",
       "      <th>cd_msa</th>\n",
       "      <th>mi_pct</th>\n",
       "      <th>cnt_units</th>\n",
       "      <th>occpy_sts</th>\n",
       "      <th>cltv</th>\n",
       "      <th>...</th>\n",
       "      <th>st</th>\n",
       "      <th>prop_type</th>\n",
       "      <th>zipcode</th>\n",
       "      <th>loan_purpose</th>\n",
       "      <th>orig_loan_term</th>\n",
       "      <th>cnt_borr</th>\n",
       "      <th>seller_name</th>\n",
       "      <th>servicer_name</th>\n",
       "      <th>flag_sc</th>\n",
       "      <th>Default</th>\n",
       "    </tr>\n",
       "  </thead>\n",
       "  <tbody>\n",
       "    <tr>\n",
       "      <th>0</th>\n",
       "      <td>F114Q1000001</td>\n",
       "      <td>717</td>\n",
       "      <td>201404</td>\n",
       "      <td>9</td>\n",
       "      <td>204403</td>\n",
       "      <td>39300.0</td>\n",
       "      <td>0</td>\n",
       "      <td>1</td>\n",
       "      <td>I</td>\n",
       "      <td>77</td>\n",
       "      <td>...</td>\n",
       "      <td>RI</td>\n",
       "      <td>SF</td>\n",
       "      <td>2800.0</td>\n",
       "      <td>P</td>\n",
       "      <td>360</td>\n",
       "      <td>2</td>\n",
       "      <td>Other sellers</td>\n",
       "      <td>LAKEVIEW LOAN SERVICING, LLC</td>\n",
       "      <td>NaN</td>\n",
       "      <td>NO</td>\n",
       "    </tr>\n",
       "    <tr>\n",
       "      <th>1</th>\n",
       "      <td>F114Q1000002</td>\n",
       "      <td>813</td>\n",
       "      <td>201405</td>\n",
       "      <td>Y</td>\n",
       "      <td>204404</td>\n",
       "      <td>19780.0</td>\n",
       "      <td>30</td>\n",
       "      <td>1</td>\n",
       "      <td>P</td>\n",
       "      <td>95</td>\n",
       "      <td>...</td>\n",
       "      <td>IA</td>\n",
       "      <td>SF</td>\n",
       "      <td>50300.0</td>\n",
       "      <td>P</td>\n",
       "      <td>360</td>\n",
       "      <td>1</td>\n",
       "      <td>Other sellers</td>\n",
       "      <td>Other servicers</td>\n",
       "      <td>NaN</td>\n",
       "      <td>YES</td>\n",
       "    </tr>\n",
       "    <tr>\n",
       "      <th>2</th>\n",
       "      <td>F114Q1000004</td>\n",
       "      <td>742</td>\n",
       "      <td>201403</td>\n",
       "      <td>9</td>\n",
       "      <td>204402</td>\n",
       "      <td>NaN</td>\n",
       "      <td>0</td>\n",
       "      <td>1</td>\n",
       "      <td>P</td>\n",
       "      <td>78</td>\n",
       "      <td>...</td>\n",
       "      <td>KY</td>\n",
       "      <td>SF</td>\n",
       "      <td>42100.0</td>\n",
       "      <td>C</td>\n",
       "      <td>360</td>\n",
       "      <td>1</td>\n",
       "      <td>Other sellers</td>\n",
       "      <td>Other servicers</td>\n",
       "      <td>NaN</td>\n",
       "      <td>NO</td>\n",
       "    </tr>\n",
       "    <tr>\n",
       "      <th>3</th>\n",
       "      <td>F114Q1000007</td>\n",
       "      <td>735</td>\n",
       "      <td>201405</td>\n",
       "      <td>9</td>\n",
       "      <td>204404</td>\n",
       "      <td>33460.0</td>\n",
       "      <td>0</td>\n",
       "      <td>1</td>\n",
       "      <td>P</td>\n",
       "      <td>86</td>\n",
       "      <td>...</td>\n",
       "      <td>MN</td>\n",
       "      <td>SF</td>\n",
       "      <td>55000.0</td>\n",
       "      <td>N</td>\n",
       "      <td>360</td>\n",
       "      <td>2</td>\n",
       "      <td>Other sellers</td>\n",
       "      <td>Other servicers</td>\n",
       "      <td>NaN</td>\n",
       "      <td>NO</td>\n",
       "    </tr>\n",
       "    <tr>\n",
       "      <th>4</th>\n",
       "      <td>F114Q1000010</td>\n",
       "      <td>667</td>\n",
       "      <td>201403</td>\n",
       "      <td>N</td>\n",
       "      <td>204402</td>\n",
       "      <td>NaN</td>\n",
       "      <td>25</td>\n",
       "      <td>1</td>\n",
       "      <td>P</td>\n",
       "      <td>90</td>\n",
       "      <td>...</td>\n",
       "      <td>KY</td>\n",
       "      <td>SF</td>\n",
       "      <td>42100.0</td>\n",
       "      <td>P</td>\n",
       "      <td>360</td>\n",
       "      <td>2</td>\n",
       "      <td>Other sellers</td>\n",
       "      <td>Other servicers</td>\n",
       "      <td>NaN</td>\n",
       "      <td>NO</td>\n",
       "    </tr>\n",
       "  </tbody>\n",
       "</table>\n",
       "<p>5 rows × 27 columns</p>\n",
       "</div>"
      ],
      "text/plain": [
       "        id_loan  fico  dt_first_pi flag_fthb  dt_matr   cd_msa  mi_pct  \\\n",
       "0  F114Q1000001   717       201404         9   204403  39300.0       0   \n",
       "1  F114Q1000002   813       201405         Y   204404  19780.0      30   \n",
       "2  F114Q1000004   742       201403         9   204402      NaN       0   \n",
       "3  F114Q1000007   735       201405         9   204404  33460.0       0   \n",
       "4  F114Q1000010   667       201403         N   204402      NaN      25   \n",
       "\n",
       "   cnt_units occpy_sts  cltv  ...  st  prop_type  zipcode  loan_purpose  \\\n",
       "0          1         I    77  ...  RI         SF   2800.0             P   \n",
       "1          1         P    95  ...  IA         SF  50300.0             P   \n",
       "2          1         P    78  ...  KY         SF  42100.0             C   \n",
       "3          1         P    86  ...  MN         SF  55000.0             N   \n",
       "4          1         P    90  ...  KY         SF  42100.0             P   \n",
       "\n",
       "  orig_loan_term cnt_borr    seller_name                 servicer_name  \\\n",
       "0            360        2  Other sellers  LAKEVIEW LOAN SERVICING, LLC   \n",
       "1            360        1  Other sellers               Other servicers   \n",
       "2            360        1  Other sellers               Other servicers   \n",
       "3            360        2  Other sellers               Other servicers   \n",
       "4            360        2  Other sellers               Other servicers   \n",
       "\n",
       "  flag_sc  Default  \n",
       "0     NaN       NO  \n",
       "1     NaN      YES  \n",
       "2     NaN       NO  \n",
       "3     NaN       NO  \n",
       "4     NaN       NO  \n",
       "\n",
       "[5 rows x 27 columns]"
      ]
     },
     "execution_count": 4,
     "metadata": {},
     "output_type": "execute_result"
    }
   ],
   "source": [
    "data.head()"
   ]
  },
  {
   "cell_type": "markdown",
   "metadata": {},
   "source": [
    "We can see there are NaN values. \n",
    "So first, we want to take a look at these missing values."
   ]
  },
  {
   "cell_type": "code",
   "execution_count": 5,
   "metadata": {},
   "outputs": [],
   "source": [
    "#check the missing fraction of each variable and sort them with missing fractions\n",
    "missing_fractions = data.isnull().mean().sort_values(ascending=False)"
   ]
  },
  {
   "cell_type": "code",
   "execution_count": 6,
   "metadata": {},
   "outputs": [
    {
     "data": {
      "text/plain": [
       "flag_sc        0.958468\n",
       "cd_msa         0.100090\n",
       "ppmt_pnlty     0.000623\n",
       "zipcode        0.000002\n",
       "Default        0.000000\n",
       "orig_upb       0.000000\n",
       "fico           0.000000\n",
       "dt_first_pi    0.000000\n",
       "flag_fthb      0.000000\n",
       "dt_matr        0.000000\n",
       "dtype: float64"
      ]
     },
     "execution_count": 6,
     "metadata": {},
     "output_type": "execute_result"
    }
   ],
   "source": [
    "missing_fractions[:10]"
   ]
  },
  {
   "cell_type": "markdown",
   "metadata": {},
   "source": [
    "We can see only four variables have missing values. flag_sc has a very large fraction of missing values. So we drop this variable."
   ]
  },
  {
   "cell_type": "code",
   "execution_count": 7,
   "metadata": {},
   "outputs": [
    {
     "name": "stdout",
     "output_type": "stream",
     "text": [
      "['flag_sc']\n"
     ]
    }
   ],
   "source": [
    "#drop the variable with missing values over 50%\n",
    "drop_list = sorted(list(missing_fractions[missing_fractions > 0.5].index))\n",
    "print(drop_list)\n",
    "data.drop(labels=drop_list, axis=1, inplace=True)"
   ]
  },
  {
   "cell_type": "code",
   "execution_count": 8,
   "metadata": {},
   "outputs": [
    {
     "data": {
      "text/plain": [
       "cd_msa         0.100090\n",
       "ppmt_pnlty     0.000623\n",
       "zipcode        0.000002\n",
       "Default        0.000000\n",
       "orig_upb       0.000000\n",
       "fico           0.000000\n",
       "dt_first_pi    0.000000\n",
       "flag_fthb      0.000000\n",
       "dt_matr        0.000000\n",
       "mi_pct         0.000000\n",
       "dtype: float64"
      ]
     },
     "execution_count": 8,
     "metadata": {},
     "output_type": "execute_result"
    }
   ],
   "source": [
    "#check again the missing_fractions\n",
    "missing_fractions = data.isnull().mean().sort_values(ascending=False)\n",
    "missing_fractions[:10]"
   ]
  },
  {
   "cell_type": "code",
   "execution_count": 9,
   "metadata": {},
   "outputs": [
    {
     "data": {
      "text/plain": [
       "666986     22420.0\n",
       "789142     16580.0\n",
       "1317716    43524.0\n",
       "792361         NaN\n",
       "870416     37460.0\n",
       "1799975    47664.0\n",
       "1100690    34980.0\n",
       "1931597    49180.0\n",
       "1984917    47894.0\n",
       "713917         NaN\n",
       "Name: cd_msa, dtype: float64"
      ]
     },
     "execution_count": 9,
     "metadata": {},
     "output_type": "execute_result"
    }
   ],
   "source": [
    "#check the three variables with some missing values one by one\n",
    "data.cd_msa.sample(10)"
   ]
  },
  {
   "cell_type": "code",
   "execution_count": 10,
   "metadata": {},
   "outputs": [],
   "source": [
    "#fill missing values with the median of this column\n",
    "data.cd_msa.fillna(data.cd_msa.median(),inplace=True)"
   ]
  },
  {
   "cell_type": "code",
   "execution_count": 11,
   "metadata": {},
   "outputs": [
    {
     "data": {
      "text/plain": [
       "count     2097286\n",
       "unique          1\n",
       "top             N\n",
       "freq      2097286\n",
       "Name: ppmt_pnlty, dtype: object"
      ]
     },
     "execution_count": 11,
     "metadata": {},
     "output_type": "execute_result"
    }
   ],
   "source": [
    "data.ppmt_pnlty.describe()"
   ]
  },
  {
   "cell_type": "code",
   "execution_count": 12,
   "metadata": {},
   "outputs": [],
   "source": [
    "#there's only one unique value for ppmt_pnlty, we can fill it with this value 'N'\n",
    "#but actually, this column should be dropped since it has only one unique value\n",
    "# data.ppmt_pnlty.fillna('N',inplace = True)\n",
    "data.drop(['ppmt_pnlty'],axis=1, inplace=True)"
   ]
  },
  {
   "cell_type": "code",
   "execution_count": 13,
   "metadata": {},
   "outputs": [
    {
     "data": {
      "text/plain": [
       "count    2.098588e+06\n",
       "mean     5.615361e+04\n",
       "std      2.976084e+04\n",
       "min      6.000000e+02\n",
       "25%      3.050000e+04\n",
       "50%      5.540000e+04\n",
       "75%      8.460000e+04\n",
       "max      9.990000e+04\n",
       "Name: zipcode, dtype: float64"
      ]
     },
     "execution_count": 13,
     "metadata": {},
     "output_type": "execute_result"
    }
   ],
   "source": [
    "data.zipcode.describe()"
   ]
  },
  {
   "cell_type": "code",
   "execution_count": 14,
   "metadata": {},
   "outputs": [],
   "source": [
    "#similarly, fill missing zipcodes with median\n",
    "data.zipcode.fillna(data.zipcode.median(),inplace=True)"
   ]
  },
  {
   "cell_type": "markdown",
   "metadata": {},
   "source": [
    "Next, we want to check if there are other variables with only one unique value."
   ]
  },
  {
   "cell_type": "code",
   "execution_count": 15,
   "metadata": {},
   "outputs": [],
   "source": [
    "for col in data.columns:\n",
    "    unique_list = data[col].unique().tolist()\n",
    "    if len(unique_list) < 2:\n",
    "        print(col)"
   ]
  },
  {
   "cell_type": "markdown",
   "metadata": {},
   "source": [
    "No other unique variables, good!"
   ]
  },
  {
   "cell_type": "markdown",
   "metadata": {},
   "source": [
    "### Next, do some data transformation"
   ]
  },
  {
   "cell_type": "code",
   "execution_count": 16,
   "metadata": {},
   "outputs": [],
   "source": [
    "import numpy as np"
   ]
  },
  {
   "cell_type": "code",
   "execution_count": 17,
   "metadata": {},
   "outputs": [
    {
     "data": {
      "text/plain": [
       "Index(['fico', 'dt_first_pi', 'dt_matr', 'cd_msa', 'mi_pct', 'cnt_units',\n",
       "       'cltv', 'dti', 'orig_upb', 'ltv', 'int_rt', 'zipcode', 'orig_loan_term',\n",
       "       'cnt_borr'],\n",
       "      dtype='object')"
      ]
     },
     "execution_count": 17,
     "metadata": {},
     "output_type": "execute_result"
    }
   ],
   "source": [
    "#find the columns with numerical values.\n",
    "numeric_cols = data.select_dtypes(include=[np.number]).columns\n",
    "numeric_cols"
   ]
  },
  {
   "cell_type": "code",
   "execution_count": 18,
   "metadata": {},
   "outputs": [],
   "source": [
    "from scipy.stats import zscore"
   ]
  },
  {
   "cell_type": "code",
   "execution_count": 19,
   "metadata": {},
   "outputs": [],
   "source": [
    "#apply z-score transformation to numerical columns\n",
    "data[numeric_cols] = data[numeric_cols].apply(zscore)"
   ]
  },
  {
   "cell_type": "code",
   "execution_count": 20,
   "metadata": {},
   "outputs": [
    {
     "data": {
      "text/html": [
       "<div>\n",
       "<style scoped>\n",
       "    .dataframe tbody tr th:only-of-type {\n",
       "        vertical-align: middle;\n",
       "    }\n",
       "\n",
       "    .dataframe tbody tr th {\n",
       "        vertical-align: top;\n",
       "    }\n",
       "\n",
       "    .dataframe thead th {\n",
       "        text-align: right;\n",
       "    }\n",
       "</style>\n",
       "<table border=\"1\" class=\"dataframe\">\n",
       "  <thead>\n",
       "    <tr style=\"text-align: right;\">\n",
       "      <th></th>\n",
       "      <th>id_loan</th>\n",
       "      <th>flag_fthb</th>\n",
       "      <th>occpy_sts</th>\n",
       "      <th>channel</th>\n",
       "      <th>prod_type</th>\n",
       "      <th>st</th>\n",
       "      <th>prop_type</th>\n",
       "      <th>loan_purpose</th>\n",
       "      <th>seller_name</th>\n",
       "      <th>servicer_name</th>\n",
       "      <th>Default</th>\n",
       "    </tr>\n",
       "  </thead>\n",
       "  <tbody>\n",
       "    <tr>\n",
       "      <th>0</th>\n",
       "      <td>F114Q1000001</td>\n",
       "      <td>9</td>\n",
       "      <td>I</td>\n",
       "      <td>R</td>\n",
       "      <td>FRM</td>\n",
       "      <td>RI</td>\n",
       "      <td>SF</td>\n",
       "      <td>P</td>\n",
       "      <td>Other sellers</td>\n",
       "      <td>LAKEVIEW LOAN SERVICING, LLC</td>\n",
       "      <td>NO</td>\n",
       "    </tr>\n",
       "    <tr>\n",
       "      <th>1</th>\n",
       "      <td>F114Q1000002</td>\n",
       "      <td>Y</td>\n",
       "      <td>P</td>\n",
       "      <td>R</td>\n",
       "      <td>FRM</td>\n",
       "      <td>IA</td>\n",
       "      <td>SF</td>\n",
       "      <td>P</td>\n",
       "      <td>Other sellers</td>\n",
       "      <td>Other servicers</td>\n",
       "      <td>YES</td>\n",
       "    </tr>\n",
       "    <tr>\n",
       "      <th>2</th>\n",
       "      <td>F114Q1000004</td>\n",
       "      <td>9</td>\n",
       "      <td>P</td>\n",
       "      <td>R</td>\n",
       "      <td>FRM</td>\n",
       "      <td>KY</td>\n",
       "      <td>SF</td>\n",
       "      <td>C</td>\n",
       "      <td>Other sellers</td>\n",
       "      <td>Other servicers</td>\n",
       "      <td>NO</td>\n",
       "    </tr>\n",
       "    <tr>\n",
       "      <th>3</th>\n",
       "      <td>F114Q1000007</td>\n",
       "      <td>9</td>\n",
       "      <td>P</td>\n",
       "      <td>R</td>\n",
       "      <td>FRM</td>\n",
       "      <td>MN</td>\n",
       "      <td>SF</td>\n",
       "      <td>N</td>\n",
       "      <td>Other sellers</td>\n",
       "      <td>Other servicers</td>\n",
       "      <td>NO</td>\n",
       "    </tr>\n",
       "    <tr>\n",
       "      <th>4</th>\n",
       "      <td>F114Q1000010</td>\n",
       "      <td>N</td>\n",
       "      <td>P</td>\n",
       "      <td>R</td>\n",
       "      <td>FRM</td>\n",
       "      <td>KY</td>\n",
       "      <td>SF</td>\n",
       "      <td>P</td>\n",
       "      <td>Other sellers</td>\n",
       "      <td>Other servicers</td>\n",
       "      <td>NO</td>\n",
       "    </tr>\n",
       "    <tr>\n",
       "      <th>...</th>\n",
       "      <td>...</td>\n",
       "      <td>...</td>\n",
       "      <td>...</td>\n",
       "      <td>...</td>\n",
       "      <td>...</td>\n",
       "      <td>...</td>\n",
       "      <td>...</td>\n",
       "      <td>...</td>\n",
       "      <td>...</td>\n",
       "      <td>...</td>\n",
       "      <td>...</td>\n",
       "    </tr>\n",
       "    <tr>\n",
       "      <th>2098588</th>\n",
       "      <td>F118Q4244552</td>\n",
       "      <td>9</td>\n",
       "      <td>P</td>\n",
       "      <td>C</td>\n",
       "      <td>FRM</td>\n",
       "      <td>VA</td>\n",
       "      <td>SF</td>\n",
       "      <td>C</td>\n",
       "      <td>JPMORGAN CHASE BANK, NATIONAL ASSOCIATION</td>\n",
       "      <td>JPMORGAN CHASE BANK, NATIONAL ASSOCIATION</td>\n",
       "      <td>NO</td>\n",
       "    </tr>\n",
       "    <tr>\n",
       "      <th>2098589</th>\n",
       "      <td>F118Q4244555</td>\n",
       "      <td>N</td>\n",
       "      <td>P</td>\n",
       "      <td>R</td>\n",
       "      <td>FRM</td>\n",
       "      <td>AZ</td>\n",
       "      <td>MH</td>\n",
       "      <td>P</td>\n",
       "      <td>Other sellers</td>\n",
       "      <td>Other servicers</td>\n",
       "      <td>NO</td>\n",
       "    </tr>\n",
       "    <tr>\n",
       "      <th>2098590</th>\n",
       "      <td>F118Q4244558</td>\n",
       "      <td>9</td>\n",
       "      <td>P</td>\n",
       "      <td>R</td>\n",
       "      <td>FRM</td>\n",
       "      <td>FL</td>\n",
       "      <td>PU</td>\n",
       "      <td>N</td>\n",
       "      <td>Other sellers</td>\n",
       "      <td>Other servicers</td>\n",
       "      <td>NO</td>\n",
       "    </tr>\n",
       "    <tr>\n",
       "      <th>2098591</th>\n",
       "      <td>F118Q4244561</td>\n",
       "      <td>9</td>\n",
       "      <td>P</td>\n",
       "      <td>R</td>\n",
       "      <td>FRM</td>\n",
       "      <td>FL</td>\n",
       "      <td>SF</td>\n",
       "      <td>N</td>\n",
       "      <td>Other sellers</td>\n",
       "      <td>Other servicers</td>\n",
       "      <td>NO</td>\n",
       "    </tr>\n",
       "    <tr>\n",
       "      <th>2098592</th>\n",
       "      <td>F118Q4244564</td>\n",
       "      <td>9</td>\n",
       "      <td>I</td>\n",
       "      <td>B</td>\n",
       "      <td>FRM</td>\n",
       "      <td>TX</td>\n",
       "      <td>SF</td>\n",
       "      <td>C</td>\n",
       "      <td>Other sellers</td>\n",
       "      <td>Other servicers</td>\n",
       "      <td>NO</td>\n",
       "    </tr>\n",
       "  </tbody>\n",
       "</table>\n",
       "<p>2098593 rows × 11 columns</p>\n",
       "</div>"
      ],
      "text/plain": [
       "              id_loan flag_fthb occpy_sts channel prod_type  st prop_type  \\\n",
       "0        F114Q1000001         9         I       R       FRM  RI        SF   \n",
       "1        F114Q1000002         Y         P       R       FRM  IA        SF   \n",
       "2        F114Q1000004         9         P       R       FRM  KY        SF   \n",
       "3        F114Q1000007         9         P       R       FRM  MN        SF   \n",
       "4        F114Q1000010         N         P       R       FRM  KY        SF   \n",
       "...               ...       ...       ...     ...       ...  ..       ...   \n",
       "2098588  F118Q4244552         9         P       C       FRM  VA        SF   \n",
       "2098589  F118Q4244555         N         P       R       FRM  AZ        MH   \n",
       "2098590  F118Q4244558         9         P       R       FRM  FL        PU   \n",
       "2098591  F118Q4244561         9         P       R       FRM  FL        SF   \n",
       "2098592  F118Q4244564         9         I       B       FRM  TX        SF   \n",
       "\n",
       "        loan_purpose                                seller_name  \\\n",
       "0                  P                              Other sellers   \n",
       "1                  P                              Other sellers   \n",
       "2                  C                              Other sellers   \n",
       "3                  N                              Other sellers   \n",
       "4                  P                              Other sellers   \n",
       "...              ...                                        ...   \n",
       "2098588            C  JPMORGAN CHASE BANK, NATIONAL ASSOCIATION   \n",
       "2098589            P                              Other sellers   \n",
       "2098590            N                              Other sellers   \n",
       "2098591            N                              Other sellers   \n",
       "2098592            C                              Other sellers   \n",
       "\n",
       "                                     servicer_name Default  \n",
       "0                     LAKEVIEW LOAN SERVICING, LLC      NO  \n",
       "1                                  Other servicers     YES  \n",
       "2                                  Other servicers      NO  \n",
       "3                                  Other servicers      NO  \n",
       "4                                  Other servicers      NO  \n",
       "...                                            ...     ...  \n",
       "2098588  JPMORGAN CHASE BANK, NATIONAL ASSOCIATION      NO  \n",
       "2098589                            Other servicers      NO  \n",
       "2098590                            Other servicers      NO  \n",
       "2098591                            Other servicers      NO  \n",
       "2098592                            Other servicers      NO  \n",
       "\n",
       "[2098593 rows x 11 columns]"
      ]
     },
     "execution_count": 20,
     "metadata": {},
     "output_type": "execute_result"
    }
   ],
   "source": [
    "#find non-numerical columns\n",
    "non_numeric_cols = []\n",
    "for col in data.columns:\n",
    "    if not col in numeric_cols:\n",
    "        non_numeric_cols.append(col)\n",
    "data[non_numeric_cols]"
   ]
  },
  {
   "cell_type": "markdown",
   "metadata": {},
   "source": [
    "We notice that prod_type looks unique, but we didn't find it in previous unique check. Why?"
   ]
  },
  {
   "cell_type": "code",
   "execution_count": 21,
   "metadata": {},
   "outputs": [
    {
     "data": {
      "text/plain": [
       "count     2098593\n",
       "unique          2\n",
       "top           FRM\n",
       "freq      2098592\n",
       "Name: prod_type, dtype: object"
      ]
     },
     "execution_count": 21,
     "metadata": {},
     "output_type": "execute_result"
    }
   ],
   "source": [
    "data.prod_type.describe()"
   ]
  },
  {
   "cell_type": "code",
   "execution_count": 22,
   "metadata": {},
   "outputs": [
    {
     "data": {
      "text/plain": [
       "array(['FRM', '_'], dtype=object)"
      ]
     },
     "execution_count": 22,
     "metadata": {},
     "output_type": "execute_result"
    }
   ],
   "source": [
    "data.prod_type.unique()"
   ]
  },
  {
   "cell_type": "markdown",
   "metadata": {},
   "source": [
    "That's it! There's one sample annotated as '_'. So let's drop this column."
   ]
  },
  {
   "cell_type": "code",
   "execution_count": 23,
   "metadata": {},
   "outputs": [],
   "source": [
    "data.drop(['prod_type'],axis=1, inplace=True)"
   ]
  },
  {
   "cell_type": "code",
   "execution_count": 24,
   "metadata": {},
   "outputs": [
    {
     "data": {
      "text/html": [
       "<div>\n",
       "<style scoped>\n",
       "    .dataframe tbody tr th:only-of-type {\n",
       "        vertical-align: middle;\n",
       "    }\n",
       "\n",
       "    .dataframe tbody tr th {\n",
       "        vertical-align: top;\n",
       "    }\n",
       "\n",
       "    .dataframe thead th {\n",
       "        text-align: right;\n",
       "    }\n",
       "</style>\n",
       "<table border=\"1\" class=\"dataframe\">\n",
       "  <thead>\n",
       "    <tr style=\"text-align: right;\">\n",
       "      <th></th>\n",
       "      <th>id_loan</th>\n",
       "      <th>flag_fthb</th>\n",
       "      <th>occpy_sts</th>\n",
       "      <th>channel</th>\n",
       "      <th>st</th>\n",
       "      <th>prop_type</th>\n",
       "      <th>loan_purpose</th>\n",
       "      <th>seller_name</th>\n",
       "      <th>servicer_name</th>\n",
       "      <th>Default</th>\n",
       "    </tr>\n",
       "  </thead>\n",
       "  <tbody>\n",
       "    <tr>\n",
       "      <th>0</th>\n",
       "      <td>F114Q1000001</td>\n",
       "      <td>9</td>\n",
       "      <td>I</td>\n",
       "      <td>R</td>\n",
       "      <td>RI</td>\n",
       "      <td>SF</td>\n",
       "      <td>P</td>\n",
       "      <td>Other sellers</td>\n",
       "      <td>LAKEVIEW LOAN SERVICING, LLC</td>\n",
       "      <td>NO</td>\n",
       "    </tr>\n",
       "    <tr>\n",
       "      <th>1</th>\n",
       "      <td>F114Q1000002</td>\n",
       "      <td>Y</td>\n",
       "      <td>P</td>\n",
       "      <td>R</td>\n",
       "      <td>IA</td>\n",
       "      <td>SF</td>\n",
       "      <td>P</td>\n",
       "      <td>Other sellers</td>\n",
       "      <td>Other servicers</td>\n",
       "      <td>YES</td>\n",
       "    </tr>\n",
       "    <tr>\n",
       "      <th>2</th>\n",
       "      <td>F114Q1000004</td>\n",
       "      <td>9</td>\n",
       "      <td>P</td>\n",
       "      <td>R</td>\n",
       "      <td>KY</td>\n",
       "      <td>SF</td>\n",
       "      <td>C</td>\n",
       "      <td>Other sellers</td>\n",
       "      <td>Other servicers</td>\n",
       "      <td>NO</td>\n",
       "    </tr>\n",
       "    <tr>\n",
       "      <th>3</th>\n",
       "      <td>F114Q1000007</td>\n",
       "      <td>9</td>\n",
       "      <td>P</td>\n",
       "      <td>R</td>\n",
       "      <td>MN</td>\n",
       "      <td>SF</td>\n",
       "      <td>N</td>\n",
       "      <td>Other sellers</td>\n",
       "      <td>Other servicers</td>\n",
       "      <td>NO</td>\n",
       "    </tr>\n",
       "    <tr>\n",
       "      <th>4</th>\n",
       "      <td>F114Q1000010</td>\n",
       "      <td>N</td>\n",
       "      <td>P</td>\n",
       "      <td>R</td>\n",
       "      <td>KY</td>\n",
       "      <td>SF</td>\n",
       "      <td>P</td>\n",
       "      <td>Other sellers</td>\n",
       "      <td>Other servicers</td>\n",
       "      <td>NO</td>\n",
       "    </tr>\n",
       "    <tr>\n",
       "      <th>...</th>\n",
       "      <td>...</td>\n",
       "      <td>...</td>\n",
       "      <td>...</td>\n",
       "      <td>...</td>\n",
       "      <td>...</td>\n",
       "      <td>...</td>\n",
       "      <td>...</td>\n",
       "      <td>...</td>\n",
       "      <td>...</td>\n",
       "      <td>...</td>\n",
       "    </tr>\n",
       "    <tr>\n",
       "      <th>2098588</th>\n",
       "      <td>F118Q4244552</td>\n",
       "      <td>9</td>\n",
       "      <td>P</td>\n",
       "      <td>C</td>\n",
       "      <td>VA</td>\n",
       "      <td>SF</td>\n",
       "      <td>C</td>\n",
       "      <td>JPMORGAN CHASE BANK, NATIONAL ASSOCIATION</td>\n",
       "      <td>JPMORGAN CHASE BANK, NATIONAL ASSOCIATION</td>\n",
       "      <td>NO</td>\n",
       "    </tr>\n",
       "    <tr>\n",
       "      <th>2098589</th>\n",
       "      <td>F118Q4244555</td>\n",
       "      <td>N</td>\n",
       "      <td>P</td>\n",
       "      <td>R</td>\n",
       "      <td>AZ</td>\n",
       "      <td>MH</td>\n",
       "      <td>P</td>\n",
       "      <td>Other sellers</td>\n",
       "      <td>Other servicers</td>\n",
       "      <td>NO</td>\n",
       "    </tr>\n",
       "    <tr>\n",
       "      <th>2098590</th>\n",
       "      <td>F118Q4244558</td>\n",
       "      <td>9</td>\n",
       "      <td>P</td>\n",
       "      <td>R</td>\n",
       "      <td>FL</td>\n",
       "      <td>PU</td>\n",
       "      <td>N</td>\n",
       "      <td>Other sellers</td>\n",
       "      <td>Other servicers</td>\n",
       "      <td>NO</td>\n",
       "    </tr>\n",
       "    <tr>\n",
       "      <th>2098591</th>\n",
       "      <td>F118Q4244561</td>\n",
       "      <td>9</td>\n",
       "      <td>P</td>\n",
       "      <td>R</td>\n",
       "      <td>FL</td>\n",
       "      <td>SF</td>\n",
       "      <td>N</td>\n",
       "      <td>Other sellers</td>\n",
       "      <td>Other servicers</td>\n",
       "      <td>NO</td>\n",
       "    </tr>\n",
       "    <tr>\n",
       "      <th>2098592</th>\n",
       "      <td>F118Q4244564</td>\n",
       "      <td>9</td>\n",
       "      <td>I</td>\n",
       "      <td>B</td>\n",
       "      <td>TX</td>\n",
       "      <td>SF</td>\n",
       "      <td>C</td>\n",
       "      <td>Other sellers</td>\n",
       "      <td>Other servicers</td>\n",
       "      <td>NO</td>\n",
       "    </tr>\n",
       "  </tbody>\n",
       "</table>\n",
       "<p>2098593 rows × 10 columns</p>\n",
       "</div>"
      ],
      "text/plain": [
       "              id_loan flag_fthb occpy_sts channel  st prop_type loan_purpose  \\\n",
       "0        F114Q1000001         9         I       R  RI        SF            P   \n",
       "1        F114Q1000002         Y         P       R  IA        SF            P   \n",
       "2        F114Q1000004         9         P       R  KY        SF            C   \n",
       "3        F114Q1000007         9         P       R  MN        SF            N   \n",
       "4        F114Q1000010         N         P       R  KY        SF            P   \n",
       "...               ...       ...       ...     ...  ..       ...          ...   \n",
       "2098588  F118Q4244552         9         P       C  VA        SF            C   \n",
       "2098589  F118Q4244555         N         P       R  AZ        MH            P   \n",
       "2098590  F118Q4244558         9         P       R  FL        PU            N   \n",
       "2098591  F118Q4244561         9         P       R  FL        SF            N   \n",
       "2098592  F118Q4244564         9         I       B  TX        SF            C   \n",
       "\n",
       "                                       seller_name  \\\n",
       "0                                    Other sellers   \n",
       "1                                    Other sellers   \n",
       "2                                    Other sellers   \n",
       "3                                    Other sellers   \n",
       "4                                    Other sellers   \n",
       "...                                            ...   \n",
       "2098588  JPMORGAN CHASE BANK, NATIONAL ASSOCIATION   \n",
       "2098589                              Other sellers   \n",
       "2098590                              Other sellers   \n",
       "2098591                              Other sellers   \n",
       "2098592                              Other sellers   \n",
       "\n",
       "                                     servicer_name Default  \n",
       "0                     LAKEVIEW LOAN SERVICING, LLC      NO  \n",
       "1                                  Other servicers     YES  \n",
       "2                                  Other servicers      NO  \n",
       "3                                  Other servicers      NO  \n",
       "4                                  Other servicers      NO  \n",
       "...                                            ...     ...  \n",
       "2098588  JPMORGAN CHASE BANK, NATIONAL ASSOCIATION      NO  \n",
       "2098589                            Other servicers      NO  \n",
       "2098590                            Other servicers      NO  \n",
       "2098591                            Other servicers      NO  \n",
       "2098592                            Other servicers      NO  \n",
       "\n",
       "[2098593 rows x 10 columns]"
      ]
     },
     "execution_count": 24,
     "metadata": {},
     "output_type": "execute_result"
    }
   ],
   "source": [
    "#define again the non-numerical columns since prod_type is dropped\n",
    "non_numeric_cols = []\n",
    "for col in data.columns:\n",
    "    if not col in numeric_cols:\n",
    "        non_numeric_cols.append(col)\n",
    "data[non_numeric_cols]"
   ]
  },
  {
   "cell_type": "markdown",
   "metadata": {},
   "source": [
    "#### Next, we can create dummy variables for these categorical variables."
   ]
  },
  {
   "cell_type": "markdown",
   "metadata": {},
   "source": [
    "But pd.dummy_variables() failed with Memory Error, so I created a manual function, which maps each unique value to an integer starting from 0"
   ]
  },
  {
   "cell_type": "code",
   "execution_count": 25,
   "metadata": {},
   "outputs": [],
   "source": [
    "def replace_cate(data, non_numerical_cols):\n",
    "    '''\n",
    "    This function is for creating dummy variables for non_numerical columns\n",
    "    '''\n",
    "    list_cols = data.columns\n",
    "    #exclude id_loan \n",
    "    for col in non_numeric_cols[1:]:\n",
    "        col_dict = {}\n",
    "        count = 0\n",
    "        unique_list = data[col].unique().tolist()\n",
    "        for val in unique_list:\n",
    "            col_dict[val] = count\n",
    "            count += 1\n",
    "        getattr(data,col).replace(col_dict,inplace=True)"
   ]
  },
  {
   "cell_type": "code",
   "execution_count": 26,
   "metadata": {},
   "outputs": [],
   "source": [
    "replace_cate(data, non_numeric_cols)"
   ]
  },
  {
   "cell_type": "code",
   "execution_count": 27,
   "metadata": {},
   "outputs": [
    {
     "data": {
      "text/html": [
       "<div>\n",
       "<style scoped>\n",
       "    .dataframe tbody tr th:only-of-type {\n",
       "        vertical-align: middle;\n",
       "    }\n",
       "\n",
       "    .dataframe tbody tr th {\n",
       "        vertical-align: top;\n",
       "    }\n",
       "\n",
       "    .dataframe thead th {\n",
       "        text-align: right;\n",
       "    }\n",
       "</style>\n",
       "<table border=\"1\" class=\"dataframe\">\n",
       "  <thead>\n",
       "    <tr style=\"text-align: right;\">\n",
       "      <th></th>\n",
       "      <th>id_loan</th>\n",
       "      <th>flag_fthb</th>\n",
       "      <th>occpy_sts</th>\n",
       "      <th>channel</th>\n",
       "      <th>st</th>\n",
       "      <th>prop_type</th>\n",
       "      <th>loan_purpose</th>\n",
       "      <th>seller_name</th>\n",
       "      <th>servicer_name</th>\n",
       "      <th>Default</th>\n",
       "    </tr>\n",
       "  </thead>\n",
       "  <tbody>\n",
       "    <tr>\n",
       "      <th>5053</th>\n",
       "      <td>F114Q1014659</td>\n",
       "      <td>1</td>\n",
       "      <td>1</td>\n",
       "      <td>2</td>\n",
       "      <td>23</td>\n",
       "      <td>1</td>\n",
       "      <td>0</td>\n",
       "      <td>2</td>\n",
       "      <td>5</td>\n",
       "      <td>0</td>\n",
       "    </tr>\n",
       "    <tr>\n",
       "      <th>1033690</th>\n",
       "      <td>F116Q3044109</td>\n",
       "      <td>2</td>\n",
       "      <td>1</td>\n",
       "      <td>0</td>\n",
       "      <td>22</td>\n",
       "      <td>0</td>\n",
       "      <td>0</td>\n",
       "      <td>0</td>\n",
       "      <td>1</td>\n",
       "      <td>0</td>\n",
       "    </tr>\n",
       "    <tr>\n",
       "      <th>1903666</th>\n",
       "      <td>F118Q2246625</td>\n",
       "      <td>2</td>\n",
       "      <td>1</td>\n",
       "      <td>1</td>\n",
       "      <td>6</td>\n",
       "      <td>2</td>\n",
       "      <td>0</td>\n",
       "      <td>13</td>\n",
       "      <td>28</td>\n",
       "      <td>0</td>\n",
       "    </tr>\n",
       "    <tr>\n",
       "      <th>971724</th>\n",
       "      <td>F116Q2261837</td>\n",
       "      <td>2</td>\n",
       "      <td>1</td>\n",
       "      <td>1</td>\n",
       "      <td>29</td>\n",
       "      <td>1</td>\n",
       "      <td>0</td>\n",
       "      <td>3</td>\n",
       "      <td>11</td>\n",
       "      <td>0</td>\n",
       "    </tr>\n",
       "    <tr>\n",
       "      <th>1751495</th>\n",
       "      <td>F118Q1054627</td>\n",
       "      <td>0</td>\n",
       "      <td>0</td>\n",
       "      <td>0</td>\n",
       "      <td>13</td>\n",
       "      <td>0</td>\n",
       "      <td>0</td>\n",
       "      <td>0</td>\n",
       "      <td>1</td>\n",
       "      <td>0</td>\n",
       "    </tr>\n",
       "  </tbody>\n",
       "</table>\n",
       "</div>"
      ],
      "text/plain": [
       "              id_loan  flag_fthb  occpy_sts  channel  st  prop_type  \\\n",
       "5053     F114Q1014659          1          1        2  23          1   \n",
       "1033690  F116Q3044109          2          1        0  22          0   \n",
       "1903666  F118Q2246625          2          1        1   6          2   \n",
       "971724   F116Q2261837          2          1        1  29          1   \n",
       "1751495  F118Q1054627          0          0        0  13          0   \n",
       "\n",
       "         loan_purpose  seller_name  servicer_name  Default  \n",
       "5053                0            2              5        0  \n",
       "1033690             0            0              1        0  \n",
       "1903666             0           13             28        0  \n",
       "971724              0            3             11        0  \n",
       "1751495             0            0              1        0  "
      ]
     },
     "execution_count": 27,
     "metadata": {},
     "output_type": "execute_result"
    }
   ],
   "source": [
    "data[non_numeric_cols].sample(5)"
   ]
  },
  {
   "cell_type": "markdown",
   "metadata": {},
   "source": [
    "We can see these categorical variables are mapped to integers, but some variables, like st, have too many discrete values.\n",
    "so we may need to create bins for them."
   ]
  },
  {
   "cell_type": "markdown",
   "metadata": {},
   "source": [
    "Before that,we drop the id_loan variable since it's a unique label for each sample."
   ]
  },
  {
   "cell_type": "code",
   "execution_count": 28,
   "metadata": {},
   "outputs": [],
   "source": [
    "data = data[data.columns[1:]]"
   ]
  },
  {
   "cell_type": "markdown",
   "metadata": {},
   "source": [
    "## (2) Feature Selection with WoE"
   ]
  },
  {
   "cell_type": "code",
   "execution_count": 29,
   "metadata": {},
   "outputs": [],
   "source": [
    "import scorecardpy as sc"
   ]
  },
  {
   "cell_type": "markdown",
   "metadata": {},
   "source": [
    "()Split train and test set with a ratio 7:3"
   ]
  },
  {
   "cell_type": "code",
   "execution_count": 30,
   "metadata": {},
   "outputs": [],
   "source": [
    "train, test = sc.split_df(data,\n",
    "                          y = 'Default',\n",
    "                          ratio = 0.7, seed = 251120887).values()"
   ]
  },
  {
   "cell_type": "code",
   "execution_count": 31,
   "metadata": {},
   "outputs": [],
   "source": [
    "train.to_csv('train_noWoE.csv', index=False)\n",
    "test.to_csv('test_noWoE.csv', index=False)"
   ]
  },
  {
   "cell_type": "markdown",
   "metadata": {},
   "source": [
    "Create woe bins with scorecardpy. The parameters are set as default according to the sample code."
   ]
  },
  {
   "cell_type": "code",
   "execution_count": 32,
   "metadata": {},
   "outputs": [
    {
     "name": "stdout",
     "output_type": "stream",
     "text": [
      "[INFO] creating woe binning ...\n",
      "Binning on 1469015 rows and 23 columns in 00:02:02\n"
     ]
    }
   ],
   "source": [
    "bins = sc.woebin(train, y = 'Default', \n",
    "                 min_perc_fine_bin=0.05, # How many bins to cut initially into\n",
    "                 min_perc_coarse_bin=0.05,  # Minimum percentage per final bin\n",
    "                 stop_limit=0.1, # Minimum information value \n",
    "                 max_num_bin=8, # Maximum number of bins\n",
    "                 method='tree')"
   ]
  },
  {
   "cell_type": "code",
   "execution_count": 33,
   "metadata": {},
   "outputs": [
    {
     "data": {
      "text/plain": [
       "{'prop_type':     variable         bin   count  count_distr    good    bad   badprob  \\\n",
       " 0  prop_type  [-inf,1.0)  939934     0.639840  916923  23011  0.024482   \n",
       " 1  prop_type   [1.0,2.0)  406411     0.276655  396156  10255  0.025233   \n",
       " 2  prop_type   [2.0,inf)  122670     0.083505  120074   2596  0.021162   \n",
       " \n",
       "         woe    bin_iv  total_iv breaks  is_special_values  \n",
       " 0  0.002903  0.000005  0.001994    1.0              False  \n",
       " 1  0.033911  0.000323  0.001994    2.0              False  \n",
       " 2 -0.146182  0.001666  0.001994    inf              False  ,\n",
       " 'int_rt':   variable          bin   count  count_distr    good    bad   badprob  \\\n",
       " 0   int_rt  [-inf,-1.0)  205968     0.140208  203541   2427  0.011783   \n",
       " 1   int_rt   [-1.0,0.0)  585446     0.398530  574145  11301  0.019303   \n",
       " 2   int_rt    [0.0,1.0)  442295     0.301083  428077  14218  0.032146   \n",
       " 3   int_rt    [1.0,inf)  235306     0.160179  227390   7916  0.033641   \n",
       " \n",
       "         woe    bin_iv  total_iv breaks  is_special_values  \n",
       " 0 -0.741258  0.055110   0.12381   -1.0              False  \n",
       " 1 -0.240037  0.020521   0.12381    0.0              False  \n",
       " 2  0.283160  0.027684   0.12381    1.0              False  \n",
       " 3  0.330173  0.020494   0.12381    inf              False  ,\n",
       " 'cnt_borr':    variable                        bin   count  count_distr    good    bad  \\\n",
       " 0  cnt_borr  [-inf,0.9984806116960271)  733754     0.499487  709170  24584   \n",
       " 1  cnt_borr   [0.9984806116960271,inf)  735261     0.500513  723983  11278   \n",
       " \n",
       "     badprob       woe    bin_iv  total_iv              breaks  \\\n",
       " 0  0.033504  0.325955  0.062155  0.152531  0.9984806116960271   \n",
       " 1  0.015339 -0.473960  0.090377  0.152531                 inf   \n",
       " \n",
       "    is_special_values  \n",
       " 0              False  \n",
       " 1              False  ,\n",
       " 'servicer_name':         variable          bin   count  count_distr    good    bad   badprob  \\\n",
       " 0  servicer_name   [-inf,2.0)  444788     0.302780  428950  15838  0.035608   \n",
       " 1  servicer_name   [2.0,14.0)  546326     0.371900  535188  11138  0.020387   \n",
       " 2  servicer_name  [14.0,18.0)  158252     0.107727  157018   1234  0.007798   \n",
       " 3  servicer_name  [18.0,30.0)  194595     0.132466  189249   5346  0.027472   \n",
       " 4  servicer_name   [30.0,inf)  125054     0.085128  122748   2306  0.018440   \n",
       " \n",
       "         woe    bin_iv  total_iv breaks  is_special_values  \n",
       " 0  0.389026  0.055371  0.162174    2.0              False  \n",
       " 1 -0.184301  0.011584  0.162174   14.0              False  \n",
       " 2 -1.158146  0.087036  0.162174   18.0              False  \n",
       " 3  0.121239  0.002064  0.162174   30.0              False  \n",
       " 4 -0.286665  0.006119  0.162174    inf              False  ,\n",
       " 'mi_pct':   variable         bin    count  count_distr     good    bad   badprob  \\\n",
       " 0   mi_pct  [-inf,1.0)  1153766     0.785401  1129302  24464  0.021204   \n",
       " 1   mi_pct   [1.0,2.0)   114050     0.077637   110613   3437  0.030136   \n",
       " 2   mi_pct   [2.0,inf)   201199     0.136962   193238   7961  0.039568   \n",
       " \n",
       "         woe    bin_iv  total_iv breaks  is_special_values  \n",
       " 0 -0.144198  0.015258  0.062753    1.0              False  \n",
       " 1  0.216515  0.004040  0.062753    2.0              False  \n",
       " 2  0.498586  0.043455  0.062753    inf              False  ,\n",
       " 'fico':   variable         bin   count  count_distr    good    bad   badprob  \\\n",
       " 0     fico  [-inf,0.0)  658978     0.448585  630921  28057  0.042577   \n",
       " 1     fico   [0.0,inf)  810037     0.551415  802232   7805  0.009635   \n",
       " \n",
       "         woe    bin_iv  total_iv breaks  is_special_values  \n",
       " 0  0.575011  0.196727  0.519928    0.0              False  \n",
       " 1 -0.944679  0.323201  0.519928    inf              False  ,\n",
       " 'dt_first_pi':       variable          bin   count  count_distr    good    bad   badprob  \\\n",
       " 0  dt_first_pi  [-inf,-1.0)  191758     0.130535  184610   7148  0.037276   \n",
       " 1  dt_first_pi   [-1.0,1.0)  973955     0.662999  947818  26137  0.026836   \n",
       " 2  dt_first_pi    [1.0,inf)  303302     0.206466  300725   2577  0.008496   \n",
       " \n",
       "         woe    bin_iv  total_iv breaks  is_special_values  \n",
       " 0  0.436541  0.030779   0.18519   -1.0              False  \n",
       " 1  0.097143  0.006554   0.18519    1.0              False  \n",
       " 2 -1.071616  0.147857   0.18519    inf              False  ,\n",
       " 'zipcode':   variable          bin   count  count_distr    good    bad   badprob  \\\n",
       " 0  zipcode  [-inf,-1.0)  266369     0.181325  260493   5876  0.022060   \n",
       " 1  zipcode   [-1.0,0.0)  474246     0.322833  459683  14563  0.030708   \n",
       " 2  zipcode    [0.0,1.0)  402792     0.274192  392876   9916  0.024618   \n",
       " 3  zipcode    [1.0,inf)  325608     0.221651  320101   5507  0.016913   \n",
       " \n",
       "         woe    bin_iv  total_iv breaks  is_special_values  \n",
       " 0 -0.103746  0.001858  0.048158   -1.0              False  \n",
       " 1  0.235901  0.020131  0.048158    0.0              False  \n",
       " 2  0.008610  0.000020  0.048158    1.0              False  \n",
       " 3 -0.374663  0.026149  0.048158    inf              False  ,\n",
       " 'flag_fthb':     variable         bin   count  count_distr    good    bad   badprob  \\\n",
       " 0  flag_fthb  [-inf,1.0)  788385     0.536676  770841  17544  0.022253   \n",
       " 1  flag_fthb   [1.0,2.0)  264555     0.180090  256116   8439  0.031899   \n",
       " 2  flag_fthb   [2.0,inf)  416075     0.283234  406196   9879  0.023743   \n",
       " \n",
       "         woe    bin_iv  total_iv breaks  is_special_values  \n",
       " 0 -0.094816  0.004613  0.020418    1.0              False  \n",
       " 1  0.275187  0.015579  0.020418    2.0              False  \n",
       " 2 -0.028471  0.000226  0.020418    inf              False  ,\n",
       " 'ltv':   variable          bin   count  count_distr    good    bad   badprob  \\\n",
       " 0      ltv  [-inf,-1.0)  219808     0.149630  216616   3192  0.014522   \n",
       " 1      ltv   [-1.0,0.0)  311360     0.211952  304694   6666  0.021409   \n",
       " 2      ltv    [0.0,1.0)  727129     0.494977  709363  17766  0.024433   \n",
       " 3      ltv    [1.0,inf)  210718     0.143442  202480   8238  0.039095   \n",
       " \n",
       "         woe        bin_iv  total_iv breaks  is_special_values  \n",
       " 0 -0.529525  3.290391e-02  0.079478   -1.0              False  \n",
       " 1 -0.134334  3.590045e-03  0.079478    0.0              False  \n",
       " 2  0.000873  3.774677e-07  0.079478    1.0              False  \n",
       " 3  0.486070  4.298370e-02  0.079478    inf              False  ,\n",
       " 'seller_name':       variable          bin   count  count_distr    good    bad   badprob  \\\n",
       " 0  seller_name   [-inf,4.0)  718217     0.488911  700102  18115  0.025222   \n",
       " 1  seller_name   [4.0,10.0)  197808     0.134653  194251   3557  0.017982   \n",
       " 2  seller_name  [10.0,20.0)  177109     0.120563  171808   5301  0.029931   \n",
       " 3  seller_name  [20.0,30.0)  294032     0.200156  286321   7711  0.026225   \n",
       " 4  seller_name   [30.0,inf)   81849     0.055717   80671   1178  0.014392   \n",
       " \n",
       "         woe    bin_iv  total_iv breaks  is_special_values  \n",
       " 0  0.033468  0.000556  0.031506    4.0              False  \n",
       " 1 -0.312280  0.011353  0.031506   10.0              False  \n",
       " 2  0.209472  0.005852  0.031506   20.0              False  \n",
       " 3  0.073488  0.001120  0.031506   30.0              False  \n",
       " 4 -0.538607  0.012626  0.031506    inf              False  ,\n",
       " 'st':   variable          bin   count  count_distr    good    bad   badprob  \\\n",
       " 0       st   [-inf,6.0)  105186     0.071603  103400   1786  0.016979   \n",
       " 1       st   [6.0,14.0)  337710     0.229889  328771   8939  0.026469   \n",
       " 2       st  [14.0,16.0)  146566     0.099772  138270   8296  0.056602   \n",
       " 3       st   [16.0,inf)  879553     0.598737  862712  16841  0.019147   \n",
       " \n",
       "         woe    bin_iv  total_iv breaks  is_special_values  \n",
       " 0 -0.370673  0.008283  0.160729    6.0              False  \n",
       " 1  0.083016  0.001648  0.160729   14.0              False  \n",
       " 2  0.874519  0.117930  0.160729   16.0              False  \n",
       " 3 -0.248311  0.032867  0.160729    inf              False  ,\n",
       " 'orig_upb':    variable          bin   count  count_distr    good    bad   badprob  \\\n",
       " 0  orig_upb  [-inf,-1.0)  226357     0.154088  218977   7380  0.032603   \n",
       " 1  orig_upb   [-1.0,0.0)  606535     0.412886  592083  14452  0.023827   \n",
       " 2  orig_upb    [0.0,inf)  636123     0.433027  622093  14030  0.022055   \n",
       " \n",
       "         woe    bin_iv  total_iv breaks  is_special_values  \n",
       " 0  0.297761  0.015780  0.020486   -1.0              False  \n",
       " 1 -0.024860  0.000252  0.020486    0.0              False  \n",
       " 2 -0.103938  0.004454  0.020486    inf              False  ,\n",
       " 'dt_matr':   variable          bin    count  count_distr     good    bad   badprob  \\\n",
       " 0  dt_matr  [-inf,-2.0)   106266     0.072338   104176   2090  0.019668   \n",
       " 1  dt_matr   [-2.0,0.0)   219142     0.149176   216121   3021  0.013786   \n",
       " 2  dt_matr    [0.0,inf)  1143607     0.778486  1112856  30751  0.026889   \n",
       " \n",
       "         woe    bin_iv  total_iv breaks  is_special_values  \n",
       " 0 -0.220964  0.003184  0.049975   -2.0              False  \n",
       " 1 -0.582297  0.038759  0.049975    0.0              False  \n",
       " 2  0.099192  0.008032  0.049975    inf              False  ,\n",
       " 'occpy_sts':     variable         bin    count  count_distr     good    bad   badprob  \\\n",
       " 0  occpy_sts  [-inf,1.0)   122803     0.083595   120498   2305  0.018770   \n",
       " 1  occpy_sts   [1.0,inf)  1346212     0.916405  1312655  33557  0.024927   \n",
       " \n",
       "         woe    bin_iv  total_iv breaks  is_special_values  \n",
       " 0 -0.268599  0.005320  0.005743    1.0              False  \n",
       " 1  0.021392  0.000424  0.005743    inf              False  ,\n",
       " 'cd_msa':   variable          bin   count  count_distr    good    bad   badprob  \\\n",
       " 0   cd_msa  [-inf,-1.0)  369445     0.251492  362073   7372  0.019954   \n",
       " 1   cd_msa   [-1.0,0.0)  222433     0.151416  215066   7367  0.033120   \n",
       " 2   cd_msa    [0.0,1.0)  611169     0.416040  596033  15136  0.024766   \n",
       " 3   cd_msa    [1.0,inf)  265968     0.181052  259981   5987  0.022510   \n",
       " \n",
       "         woe    bin_iv  total_iv breaks  is_special_values  \n",
       " 0 -0.206203  0.009707  0.028384   -1.0              False  \n",
       " 1  0.314020  0.017385  0.028384    0.0              False  \n",
       " 2  0.014734  0.000091  0.028384    1.0              False  \n",
       " 3 -0.083064  0.001201  0.028384    inf              False  ,\n",
       " 'cnt_units':     variable         bin    count  count_distr     good    bad   badprob  woe  \\\n",
       " 0  cnt_units  [-inf,inf)  1469015          1.0  1433153  35862  0.024412  0.0   \n",
       " \n",
       "    bin_iv  total_iv breaks  is_special_values  \n",
       " 0     0.0       0.0    inf              False  ,\n",
       " 'dti':   variable          bin   count  count_distr    good    bad   badprob  \\\n",
       " 0      dti  [-inf,-1.0)  215817     0.146913  213501   2316  0.010731   \n",
       " 1      dti   [-1.0,0.0)  461792     0.314355  453501   8291  0.017954   \n",
       " 2      dti    [0.0,1.0)  645019     0.439083  623051  21968  0.034058   \n",
       " 3      dti    [1.0,inf)  146387     0.099650  143100   3287  0.022454   \n",
       " \n",
       "         woe    bin_iv  total_iv breaks  is_special_values  \n",
       " 0 -0.835846  0.070539  0.158976   -1.0              False  \n",
       " 1 -0.313873  0.026756  0.158976    0.0              False  \n",
       " 2  0.342912  0.060980  0.158976    1.0              False  \n",
       " 3 -0.085614  0.000701  0.158976    inf              False  ,\n",
       " 'channel':   variable         bin   count  count_distr    good    bad   badprob  \\\n",
       " 0  channel  [-inf,1.0)  840715     0.572298  821197  19518  0.023216   \n",
       " 1  channel   [1.0,2.0)  148622     0.101171  144285   4337  0.029181   \n",
       " 2  channel   [2.0,inf)  479678     0.326530  467671  12007  0.025031   \n",
       " \n",
       "         woe    bin_iv  total_iv breaks  is_special_values  \n",
       " 0 -0.051472  0.001480  0.005412    1.0              False  \n",
       " 1  0.183346  0.003714  0.005412    2.0              False  \n",
       " 2  0.025679  0.000218  0.005412    inf              False  ,\n",
       " 'loan_purpose':        variable         bin   count  count_distr    good    bad   badprob  \\\n",
       " 0  loan_purpose  [-inf,1.0)  789274     0.537281  769314  19960  0.025289   \n",
       " 1  loan_purpose   [1.0,2.0)  345498     0.235190  335934   9564  0.027682   \n",
       " 2  loan_purpose   [2.0,inf)  334243     0.227529  327905   6338  0.018962   \n",
       " \n",
       "         woe    bin_iv  total_iv breaks  is_special_values  \n",
       " 0  0.036185  0.000716  0.018326    1.0              False  \n",
       " 1  0.129045  0.004166  0.018326    2.0              False  \n",
       " 2 -0.258207  0.013444  0.018326    inf              False  ,\n",
       " 'cltv':   variable          bin   count  count_distr    good    bad   badprob  \\\n",
       " 0     cltv  [-inf,-1.0)  224555     0.152861  221279   3276  0.014589   \n",
       " 1     cltv   [-1.0,0.0)  315139     0.214524  308389   6750  0.021419   \n",
       " 2     cltv    [0.0,1.0)  714282     0.486232  696817  17465  0.024451   \n",
       " 3     cltv    [1.0,inf)  215039     0.146383  206668   8371  0.038928   \n",
       " \n",
       "         woe    bin_iv  total_iv breaks  is_special_values  \n",
       " 0 -0.524847  0.033092   0.07967   -1.0              False  \n",
       " 1 -0.133866  0.003609   0.07967    0.0              False  \n",
       " 2  0.001630  0.000001   0.07967    1.0              False  \n",
       " 3  0.481614  0.042968   0.07967    inf              False  ,\n",
       " 'orig_loan_term':          variable          bin    count  count_distr     good    bad  \\\n",
       " 0  orig_loan_term  [-inf,-1.0)   316232     0.215268   311336   4896   \n",
       " 1  orig_loan_term   [-1.0,inf)  1152783     0.784732  1121817  30966   \n",
       " \n",
       "     badprob       woe    bin_iv  total_iv breaks  is_special_values  \n",
       " 0  0.015482 -0.464500  0.037492  0.045413   -1.0              False  \n",
       " 1  0.026862  0.098139  0.007921  0.045413    inf              False  }"
      ]
     },
     "execution_count": 33,
     "metadata": {},
     "output_type": "execute_result"
    }
   ],
   "source": [
    "bins"
   ]
  },
  {
   "cell_type": "code",
   "execution_count": 34,
   "metadata": {},
   "outputs": [
    {
     "name": "stdout",
     "output_type": "stream",
     "text": [
      "[INFO] converting into woe values ...\n",
      "Woe transformating on 1469015 rows and 22 columns in 00:01:25\n",
      "[INFO] converting into woe values ...\n",
      "Woe transformating on 629578 rows and 22 columns in 00:00:37\n"
     ]
    }
   ],
   "source": [
    "train_woe = sc.woebin_ply(train, bins) # Calculate WoE dataset (train)\n",
    "test_woe = sc.woebin_ply(test, bins) # Calculate WoE dataset (test)"
   ]
  },
  {
   "cell_type": "code",
   "execution_count": 35,
   "metadata": {},
   "outputs": [
    {
     "data": {
      "text/html": [
       "<div>\n",
       "<style scoped>\n",
       "    .dataframe tbody tr th:only-of-type {\n",
       "        vertical-align: middle;\n",
       "    }\n",
       "\n",
       "    .dataframe tbody tr th {\n",
       "        vertical-align: top;\n",
       "    }\n",
       "\n",
       "    .dataframe thead th {\n",
       "        text-align: right;\n",
       "    }\n",
       "</style>\n",
       "<table border=\"1\" class=\"dataframe\">\n",
       "  <thead>\n",
       "    <tr style=\"text-align: right;\">\n",
       "      <th></th>\n",
       "      <th>Default</th>\n",
       "      <th>prop_type_woe</th>\n",
       "      <th>cnt_borr_woe</th>\n",
       "      <th>fico_woe</th>\n",
       "      <th>dt_first_pi_woe</th>\n",
       "      <th>zipcode_woe</th>\n",
       "      <th>flag_fthb_woe</th>\n",
       "      <th>ltv_woe</th>\n",
       "      <th>seller_name_woe</th>\n",
       "      <th>orig_upb_woe</th>\n",
       "      <th>...</th>\n",
       "      <th>orig_loan_term_woe</th>\n",
       "      <th>int_rt_woe</th>\n",
       "      <th>servicer_name_woe</th>\n",
       "      <th>mi_pct_woe</th>\n",
       "      <th>st_woe</th>\n",
       "      <th>occpy_sts_woe</th>\n",
       "      <th>cd_msa_woe</th>\n",
       "      <th>dti_woe</th>\n",
       "      <th>channel_woe</th>\n",
       "      <th>cltv_woe</th>\n",
       "    </tr>\n",
       "  </thead>\n",
       "  <tbody>\n",
       "    <tr>\n",
       "      <th>0</th>\n",
       "      <td>0</td>\n",
       "      <td>0.002903</td>\n",
       "      <td>-0.473960</td>\n",
       "      <td>0.575011</td>\n",
       "      <td>0.436541</td>\n",
       "      <td>-0.103746</td>\n",
       "      <td>-0.094816</td>\n",
       "      <td>0.000873</td>\n",
       "      <td>0.033468</td>\n",
       "      <td>0.297761</td>\n",
       "      <td>...</td>\n",
       "      <td>0.098139</td>\n",
       "      <td>0.330173</td>\n",
       "      <td>0.389026</td>\n",
       "      <td>-0.144198</td>\n",
       "      <td>-0.370673</td>\n",
       "      <td>-0.268599</td>\n",
       "      <td>0.014734</td>\n",
       "      <td>0.342912</td>\n",
       "      <td>-0.051472</td>\n",
       "      <td>0.001630</td>\n",
       "    </tr>\n",
       "    <tr>\n",
       "      <th>1</th>\n",
       "      <td>1</td>\n",
       "      <td>0.002903</td>\n",
       "      <td>0.325955</td>\n",
       "      <td>-0.944679</td>\n",
       "      <td>0.436541</td>\n",
       "      <td>0.235901</td>\n",
       "      <td>0.275187</td>\n",
       "      <td>0.486070</td>\n",
       "      <td>0.033468</td>\n",
       "      <td>-0.024860</td>\n",
       "      <td>...</td>\n",
       "      <td>0.098139</td>\n",
       "      <td>-0.240037</td>\n",
       "      <td>0.389026</td>\n",
       "      <td>0.498586</td>\n",
       "      <td>-0.370673</td>\n",
       "      <td>0.021392</td>\n",
       "      <td>-0.206203</td>\n",
       "      <td>-0.313873</td>\n",
       "      <td>-0.051472</td>\n",
       "      <td>0.481614</td>\n",
       "    </tr>\n",
       "    <tr>\n",
       "      <th>5</th>\n",
       "      <td>0</td>\n",
       "      <td>0.033911</td>\n",
       "      <td>-0.473960</td>\n",
       "      <td>-0.944679</td>\n",
       "      <td>0.436541</td>\n",
       "      <td>0.008610</td>\n",
       "      <td>-0.094816</td>\n",
       "      <td>-0.529525</td>\n",
       "      <td>0.033468</td>\n",
       "      <td>-0.103938</td>\n",
       "      <td>...</td>\n",
       "      <td>0.098139</td>\n",
       "      <td>0.283160</td>\n",
       "      <td>0.389026</td>\n",
       "      <td>-0.144198</td>\n",
       "      <td>-0.370673</td>\n",
       "      <td>0.021392</td>\n",
       "      <td>0.014734</td>\n",
       "      <td>-0.313873</td>\n",
       "      <td>-0.051472</td>\n",
       "      <td>-0.524847</td>\n",
       "    </tr>\n",
       "    <tr>\n",
       "      <th>7</th>\n",
       "      <td>0</td>\n",
       "      <td>0.002903</td>\n",
       "      <td>-0.473960</td>\n",
       "      <td>0.575011</td>\n",
       "      <td>0.436541</td>\n",
       "      <td>0.008610</td>\n",
       "      <td>-0.028471</td>\n",
       "      <td>0.486070</td>\n",
       "      <td>0.033468</td>\n",
       "      <td>-0.024860</td>\n",
       "      <td>...</td>\n",
       "      <td>0.098139</td>\n",
       "      <td>0.330173</td>\n",
       "      <td>-0.184301</td>\n",
       "      <td>0.498586</td>\n",
       "      <td>0.083016</td>\n",
       "      <td>0.021392</td>\n",
       "      <td>0.014734</td>\n",
       "      <td>0.342912</td>\n",
       "      <td>-0.051472</td>\n",
       "      <td>0.481614</td>\n",
       "    </tr>\n",
       "    <tr>\n",
       "      <th>8</th>\n",
       "      <td>0</td>\n",
       "      <td>0.002903</td>\n",
       "      <td>-0.473960</td>\n",
       "      <td>-0.944679</td>\n",
       "      <td>0.436541</td>\n",
       "      <td>0.235901</td>\n",
       "      <td>-0.028471</td>\n",
       "      <td>0.000873</td>\n",
       "      <td>0.033468</td>\n",
       "      <td>0.297761</td>\n",
       "      <td>...</td>\n",
       "      <td>0.098139</td>\n",
       "      <td>0.283160</td>\n",
       "      <td>0.389026</td>\n",
       "      <td>0.216515</td>\n",
       "      <td>-0.370673</td>\n",
       "      <td>0.021392</td>\n",
       "      <td>0.014734</td>\n",
       "      <td>-0.835846</td>\n",
       "      <td>-0.051472</td>\n",
       "      <td>0.001630</td>\n",
       "    </tr>\n",
       "  </tbody>\n",
       "</table>\n",
       "<p>5 rows × 23 columns</p>\n",
       "</div>"
      ],
      "text/plain": [
       "   Default  prop_type_woe  cnt_borr_woe  fico_woe  dt_first_pi_woe  \\\n",
       "0        0       0.002903     -0.473960  0.575011         0.436541   \n",
       "1        1       0.002903      0.325955 -0.944679         0.436541   \n",
       "5        0       0.033911     -0.473960 -0.944679         0.436541   \n",
       "7        0       0.002903     -0.473960  0.575011         0.436541   \n",
       "8        0       0.002903     -0.473960 -0.944679         0.436541   \n",
       "\n",
       "   zipcode_woe  flag_fthb_woe   ltv_woe  seller_name_woe  orig_upb_woe  ...  \\\n",
       "0    -0.103746      -0.094816  0.000873         0.033468      0.297761  ...   \n",
       "1     0.235901       0.275187  0.486070         0.033468     -0.024860  ...   \n",
       "5     0.008610      -0.094816 -0.529525         0.033468     -0.103938  ...   \n",
       "7     0.008610      -0.028471  0.486070         0.033468     -0.024860  ...   \n",
       "8     0.235901      -0.028471  0.000873         0.033468      0.297761  ...   \n",
       "\n",
       "   orig_loan_term_woe  int_rt_woe  servicer_name_woe  mi_pct_woe    st_woe  \\\n",
       "0            0.098139    0.330173           0.389026   -0.144198 -0.370673   \n",
       "1            0.098139   -0.240037           0.389026    0.498586 -0.370673   \n",
       "5            0.098139    0.283160           0.389026   -0.144198 -0.370673   \n",
       "7            0.098139    0.330173          -0.184301    0.498586  0.083016   \n",
       "8            0.098139    0.283160           0.389026    0.216515 -0.370673   \n",
       "\n",
       "   occpy_sts_woe  cd_msa_woe   dti_woe  channel_woe  cltv_woe  \n",
       "0      -0.268599    0.014734  0.342912    -0.051472  0.001630  \n",
       "1       0.021392   -0.206203 -0.313873    -0.051472  0.481614  \n",
       "5       0.021392    0.014734 -0.313873    -0.051472 -0.524847  \n",
       "7       0.021392    0.014734  0.342912    -0.051472  0.481614  \n",
       "8       0.021392    0.014734 -0.835846    -0.051472  0.001630  \n",
       "\n",
       "[5 rows x 23 columns]"
      ]
     },
     "execution_count": 35,
     "metadata": {},
     "output_type": "execute_result"
    }
   ],
   "source": [
    "train_woe.head()"
   ]
  },
  {
   "cell_type": "code",
   "execution_count": 36,
   "metadata": {},
   "outputs": [
    {
     "data": {
      "text/html": [
       "<div>\n",
       "<style scoped>\n",
       "    .dataframe tbody tr th:only-of-type {\n",
       "        vertical-align: middle;\n",
       "    }\n",
       "\n",
       "    .dataframe tbody tr th {\n",
       "        vertical-align: top;\n",
       "    }\n",
       "\n",
       "    .dataframe thead th {\n",
       "        text-align: right;\n",
       "    }\n",
       "</style>\n",
       "<table border=\"1\" class=\"dataframe\">\n",
       "  <thead>\n",
       "    <tr style=\"text-align: right;\">\n",
       "      <th></th>\n",
       "      <th>variable</th>\n",
       "      <th>bin</th>\n",
       "      <th>count</th>\n",
       "      <th>count_distr</th>\n",
       "      <th>good</th>\n",
       "      <th>bad</th>\n",
       "      <th>badprob</th>\n",
       "      <th>woe</th>\n",
       "      <th>bin_iv</th>\n",
       "      <th>total_iv</th>\n",
       "      <th>breaks</th>\n",
       "      <th>is_special_values</th>\n",
       "    </tr>\n",
       "  </thead>\n",
       "  <tbody>\n",
       "    <tr>\n",
       "      <th>0</th>\n",
       "      <td>dt_first_pi</td>\n",
       "      <td>[-inf,-1.0)</td>\n",
       "      <td>191758</td>\n",
       "      <td>0.130535</td>\n",
       "      <td>184610</td>\n",
       "      <td>7148</td>\n",
       "      <td>0.037276</td>\n",
       "      <td>0.436541</td>\n",
       "      <td>0.030779</td>\n",
       "      <td>0.18519</td>\n",
       "      <td>-1.0</td>\n",
       "      <td>False</td>\n",
       "    </tr>\n",
       "    <tr>\n",
       "      <th>1</th>\n",
       "      <td>dt_first_pi</td>\n",
       "      <td>[-1.0,1.0)</td>\n",
       "      <td>973955</td>\n",
       "      <td>0.662999</td>\n",
       "      <td>947818</td>\n",
       "      <td>26137</td>\n",
       "      <td>0.026836</td>\n",
       "      <td>0.097143</td>\n",
       "      <td>0.006554</td>\n",
       "      <td>0.18519</td>\n",
       "      <td>1.0</td>\n",
       "      <td>False</td>\n",
       "    </tr>\n",
       "    <tr>\n",
       "      <th>2</th>\n",
       "      <td>dt_first_pi</td>\n",
       "      <td>[1.0,inf)</td>\n",
       "      <td>303302</td>\n",
       "      <td>0.206466</td>\n",
       "      <td>300725</td>\n",
       "      <td>2577</td>\n",
       "      <td>0.008496</td>\n",
       "      <td>-1.071616</td>\n",
       "      <td>0.147857</td>\n",
       "      <td>0.18519</td>\n",
       "      <td>inf</td>\n",
       "      <td>False</td>\n",
       "    </tr>\n",
       "  </tbody>\n",
       "</table>\n",
       "</div>"
      ],
      "text/plain": [
       "      variable          bin   count  count_distr    good    bad   badprob  \\\n",
       "0  dt_first_pi  [-inf,-1.0)  191758     0.130535  184610   7148  0.037276   \n",
       "1  dt_first_pi   [-1.0,1.0)  973955     0.662999  947818  26137  0.026836   \n",
       "2  dt_first_pi    [1.0,inf)  303302     0.206466  300725   2577  0.008496   \n",
       "\n",
       "        woe    bin_iv  total_iv breaks  is_special_values  \n",
       "0  0.436541  0.030779   0.18519   -1.0              False  \n",
       "1  0.097143  0.006554   0.18519    1.0              False  \n",
       "2 -1.071616  0.147857   0.18519    inf              False  "
      ]
     },
     "execution_count": 36,
     "metadata": {},
     "output_type": "execute_result"
    }
   ],
   "source": [
    "bins.get('dt_first_pi')"
   ]
  },
  {
   "cell_type": "markdown",
   "metadata": {},
   "source": [
    "Compute the Information Values for each variable."
   ]
  },
  {
   "cell_type": "code",
   "execution_count": 37,
   "metadata": {},
   "outputs": [
    {
     "data": {
      "text/html": [
       "<div>\n",
       "<style scoped>\n",
       "    .dataframe tbody tr th:only-of-type {\n",
       "        vertical-align: middle;\n",
       "    }\n",
       "\n",
       "    .dataframe tbody tr th {\n",
       "        vertical-align: top;\n",
       "    }\n",
       "\n",
       "    .dataframe thead th {\n",
       "        text-align: right;\n",
       "    }\n",
       "</style>\n",
       "<table border=\"1\" class=\"dataframe\">\n",
       "  <thead>\n",
       "    <tr style=\"text-align: right;\">\n",
       "      <th></th>\n",
       "      <th>variable</th>\n",
       "      <th>info_value</th>\n",
       "    </tr>\n",
       "  </thead>\n",
       "  <tbody>\n",
       "    <tr>\n",
       "      <th>18</th>\n",
       "      <td>fico_woe</td>\n",
       "      <td>0.519928</td>\n",
       "    </tr>\n",
       "    <tr>\n",
       "      <th>2</th>\n",
       "      <td>dt_first_pi_woe</td>\n",
       "      <td>0.185190</td>\n",
       "    </tr>\n",
       "    <tr>\n",
       "      <th>1</th>\n",
       "      <td>servicer_name_woe</td>\n",
       "      <td>0.162174</td>\n",
       "    </tr>\n",
       "    <tr>\n",
       "      <th>6</th>\n",
       "      <td>st_woe</td>\n",
       "      <td>0.160729</td>\n",
       "    </tr>\n",
       "    <tr>\n",
       "      <th>3</th>\n",
       "      <td>dti_woe</td>\n",
       "      <td>0.158976</td>\n",
       "    </tr>\n",
       "    <tr>\n",
       "      <th>5</th>\n",
       "      <td>cnt_borr_woe</td>\n",
       "      <td>0.152531</td>\n",
       "    </tr>\n",
       "    <tr>\n",
       "      <th>0</th>\n",
       "      <td>int_rt_woe</td>\n",
       "      <td>0.123810</td>\n",
       "    </tr>\n",
       "    <tr>\n",
       "      <th>20</th>\n",
       "      <td>cltv_woe</td>\n",
       "      <td>0.079670</td>\n",
       "    </tr>\n",
       "    <tr>\n",
       "      <th>11</th>\n",
       "      <td>ltv_woe</td>\n",
       "      <td>0.079478</td>\n",
       "    </tr>\n",
       "    <tr>\n",
       "      <th>12</th>\n",
       "      <td>mi_pct_woe</td>\n",
       "      <td>0.062753</td>\n",
       "    </tr>\n",
       "    <tr>\n",
       "      <th>17</th>\n",
       "      <td>dt_matr_woe</td>\n",
       "      <td>0.049975</td>\n",
       "    </tr>\n",
       "    <tr>\n",
       "      <th>16</th>\n",
       "      <td>zipcode_woe</td>\n",
       "      <td>0.048158</td>\n",
       "    </tr>\n",
       "    <tr>\n",
       "      <th>4</th>\n",
       "      <td>orig_loan_term_woe</td>\n",
       "      <td>0.045413</td>\n",
       "    </tr>\n",
       "    <tr>\n",
       "      <th>21</th>\n",
       "      <td>seller_name_woe</td>\n",
       "      <td>0.031506</td>\n",
       "    </tr>\n",
       "    <tr>\n",
       "      <th>10</th>\n",
       "      <td>cd_msa_woe</td>\n",
       "      <td>0.028384</td>\n",
       "    </tr>\n",
       "    <tr>\n",
       "      <th>15</th>\n",
       "      <td>orig_upb_woe</td>\n",
       "      <td>0.020486</td>\n",
       "    </tr>\n",
       "    <tr>\n",
       "      <th>14</th>\n",
       "      <td>flag_fthb_woe</td>\n",
       "      <td>0.020418</td>\n",
       "    </tr>\n",
       "    <tr>\n",
       "      <th>7</th>\n",
       "      <td>loan_purpose_woe</td>\n",
       "      <td>0.018326</td>\n",
       "    </tr>\n",
       "    <tr>\n",
       "      <th>9</th>\n",
       "      <td>occpy_sts_woe</td>\n",
       "      <td>0.005743</td>\n",
       "    </tr>\n",
       "    <tr>\n",
       "      <th>13</th>\n",
       "      <td>channel_woe</td>\n",
       "      <td>0.005412</td>\n",
       "    </tr>\n",
       "    <tr>\n",
       "      <th>19</th>\n",
       "      <td>prop_type_woe</td>\n",
       "      <td>0.001994</td>\n",
       "    </tr>\n",
       "    <tr>\n",
       "      <th>8</th>\n",
       "      <td>cnt_units_woe</td>\n",
       "      <td>0.000000</td>\n",
       "    </tr>\n",
       "  </tbody>\n",
       "</table>\n",
       "</div>"
      ],
      "text/plain": [
       "              variable  info_value\n",
       "18            fico_woe    0.519928\n",
       "2      dt_first_pi_woe    0.185190\n",
       "1    servicer_name_woe    0.162174\n",
       "6               st_woe    0.160729\n",
       "3              dti_woe    0.158976\n",
       "5         cnt_borr_woe    0.152531\n",
       "0           int_rt_woe    0.123810\n",
       "20            cltv_woe    0.079670\n",
       "11             ltv_woe    0.079478\n",
       "12          mi_pct_woe    0.062753\n",
       "17         dt_matr_woe    0.049975\n",
       "16         zipcode_woe    0.048158\n",
       "4   orig_loan_term_woe    0.045413\n",
       "21     seller_name_woe    0.031506\n",
       "10          cd_msa_woe    0.028384\n",
       "15        orig_upb_woe    0.020486\n",
       "14       flag_fthb_woe    0.020418\n",
       "7     loan_purpose_woe    0.018326\n",
       "9        occpy_sts_woe    0.005743\n",
       "13         channel_woe    0.005412\n",
       "19       prop_type_woe    0.001994\n",
       "8        cnt_units_woe    0.000000"
      ]
     },
     "execution_count": 37,
     "metadata": {},
     "output_type": "execute_result"
    }
   ],
   "source": [
    "sc.iv(train_woe, 'Default')"
   ]
  },
  {
   "cell_type": "markdown",
   "metadata": {},
   "source": [
    "We can observe that some variables have IV<0.02,which must be dropped.\n",
    "and some between 0.02 and 0.1, which are suggested to drop. \n",
    "I set a medium threshold 0.05, and drop those IV < 0.05"
   ]
  },
  {
   "cell_type": "code",
   "execution_count": 38,
   "metadata": {},
   "outputs": [],
   "source": [
    "drop_list = ['cnt_units_woe','prop_type_woe','channel_woe','occpy_sts_woe','loan_purpose_woe',\n",
    "            'flag_fthb_woe','orig_upb_woe','cd_msa_woe','seller_name_woe','orig_loan_term_woe','zipcode_woe','dt_matr_woe']\n",
    "train_woe.drop(labels=drop_list, axis=1, inplace=True)"
   ]
  },
  {
   "cell_type": "code",
   "execution_count": 39,
   "metadata": {},
   "outputs": [
    {
     "data": {
      "text/plain": [
       "Index(['Default', 'cnt_borr_woe', 'fico_woe', 'dt_first_pi_woe', 'ltv_woe',\n",
       "       'int_rt_woe', 'servicer_name_woe', 'mi_pct_woe', 'st_woe', 'dti_woe',\n",
       "       'cltv_woe'],\n",
       "      dtype='object')"
      ]
     },
     "execution_count": 39,
     "metadata": {},
     "output_type": "execute_result"
    }
   ],
   "source": [
    "train_woe.columns"
   ]
  },
  {
   "cell_type": "code",
   "execution_count": 40,
   "metadata": {},
   "outputs": [],
   "source": [
    "test_woe.drop(labels=drop_list, axis=1, inplace=True)"
   ]
  },
  {
   "cell_type": "code",
   "execution_count": 41,
   "metadata": {},
   "outputs": [],
   "source": [
    "#store these woe data\n",
    "train_woe.to_csv(\"train_woe.csv\", index = False)\n",
    "test_woe.to_csv(\"test_woe.csv\", index = False)"
   ]
  },
  {
   "cell_type": "markdown",
   "metadata": {},
   "source": [
    "Next, we want to compute correlations between variables to get some insights of unknown correlations."
   ]
  },
  {
   "cell_type": "code",
   "execution_count": 42,
   "metadata": {},
   "outputs": [],
   "source": [
    "corr = train_woe.corr()"
   ]
  },
  {
   "cell_type": "code",
   "execution_count": 45,
   "metadata": {},
   "outputs": [],
   "source": [
    "import seaborn as sns\n",
    "import numpy as np\n",
    "import matplotlib.pyplot as plt"
   ]
  },
  {
   "cell_type": "code",
   "execution_count": 44,
   "metadata": {},
   "outputs": [
    {
     "data": {
      "text/plain": [
       "'1.17.4'"
      ]
     },
     "execution_count": 44,
     "metadata": {},
     "output_type": "execute_result"
    }
   ],
   "source": [
    "#It's necessary to keep numpy<0.18.4, or seaborn.diverging_palette will fail.\n",
    "np.__version__"
   ]
  },
  {
   "cell_type": "code",
   "execution_count": 45,
   "metadata": {},
   "outputs": [
    {
     "data": {
      "text/plain": [
       "<matplotlib.axes._subplots.AxesSubplot at 0x2725a62a898>"
      ]
     },
     "execution_count": 45,
     "metadata": {},
     "output_type": "execute_result"
    },
    {
     "data": {
      "image/png": "[encoded data removed]",
      "text/plain": [
       "<Figure size 720x720 with 2 Axes>"
      ]
     },
     "metadata": {},
     "output_type": "display_data"
    }
   ],
   "source": [
    "sns.set_context(context='notebook')\n",
    "fig, ax = plt.subplots(figsize=(10,10)) \n",
    "\n",
    "# Generate a mask for the upper triangle\n",
    "mask = np.zeros_like(corr, dtype=np.bool)\n",
    "mask[np.tril_indices_from(mask)] = True\n",
    "\n",
    "# Generate a custom diverging colormap\n",
    "cmap = sns.diverging_palette(220, 10, as_cmap=True)\n",
    "\n",
    "sns.heatmap(corr, cmap=cmap,linewidths=1, vmin=-1, vmax=1, square=True, cbar=True, annot=True,fmt=\"0.2f\",center=0, ax=ax, mask=mask)"
   ]
  },
  {
   "cell_type": "markdown",
   "metadata": {},
   "source": [
    "We find that (ltv_woe, cltv_woe, mi_pct_woe) have high correlations. We should pay attention to these variables.\n",
    "But for the moment, we don't drop any of them."
   ]
  },
  {
   "cell_type": "markdown",
   "metadata": {},
   "source": [
    "## (3) Scorecard model with Logistic Regression"
   ]
  },
  {
   "cell_type": "code",
   "execution_count": 34,
   "metadata": {},
   "outputs": [],
   "source": [
    "#read data files if necessary\n",
    "train_woe = pd.read_csv('train_woe.csv')\n",
    "test_woe = pd.read_csv('test_woe.csv')\n",
    "train_noWoE = pd.read_csv('train_noWoE.csv')\n",
    "test_noWoE = pd.read_csv('test_noWoE.csv')"
   ]
  },
  {
   "cell_type": "code",
   "execution_count": 3,
   "metadata": {},
   "outputs": [
    {
     "data": {
      "text/html": [
       "<div>\n",
       "<style scoped>\n",
       "    .dataframe tbody tr th:only-of-type {\n",
       "        vertical-align: middle;\n",
       "    }\n",
       "\n",
       "    .dataframe tbody tr th {\n",
       "        vertical-align: top;\n",
       "    }\n",
       "\n",
       "    .dataframe thead th {\n",
       "        text-align: right;\n",
       "    }\n",
       "</style>\n",
       "<table border=\"1\" class=\"dataframe\">\n",
       "  <thead>\n",
       "    <tr style=\"text-align: right;\">\n",
       "      <th></th>\n",
       "      <th>Default</th>\n",
       "      <th>cnt_borr_woe</th>\n",
       "      <th>fico_woe</th>\n",
       "      <th>dt_first_pi_woe</th>\n",
       "      <th>ltv_woe</th>\n",
       "      <th>int_rt_woe</th>\n",
       "      <th>servicer_name_woe</th>\n",
       "      <th>mi_pct_woe</th>\n",
       "      <th>st_woe</th>\n",
       "      <th>dti_woe</th>\n",
       "      <th>cltv_woe</th>\n",
       "    </tr>\n",
       "  </thead>\n",
       "  <tbody>\n",
       "    <tr>\n",
       "      <th>0</th>\n",
       "      <td>0</td>\n",
       "      <td>-0.473960</td>\n",
       "      <td>0.575011</td>\n",
       "      <td>0.436541</td>\n",
       "      <td>0.000873</td>\n",
       "      <td>0.330173</td>\n",
       "      <td>0.389026</td>\n",
       "      <td>-0.144198</td>\n",
       "      <td>-0.370673</td>\n",
       "      <td>0.342912</td>\n",
       "      <td>0.001630</td>\n",
       "    </tr>\n",
       "    <tr>\n",
       "      <th>1</th>\n",
       "      <td>1</td>\n",
       "      <td>0.325955</td>\n",
       "      <td>-0.944679</td>\n",
       "      <td>0.436541</td>\n",
       "      <td>0.486070</td>\n",
       "      <td>-0.240037</td>\n",
       "      <td>0.389026</td>\n",
       "      <td>0.498586</td>\n",
       "      <td>-0.370673</td>\n",
       "      <td>-0.313873</td>\n",
       "      <td>0.481614</td>\n",
       "    </tr>\n",
       "    <tr>\n",
       "      <th>2</th>\n",
       "      <td>0</td>\n",
       "      <td>-0.473960</td>\n",
       "      <td>-0.944679</td>\n",
       "      <td>0.436541</td>\n",
       "      <td>-0.529525</td>\n",
       "      <td>0.283160</td>\n",
       "      <td>0.389026</td>\n",
       "      <td>-0.144198</td>\n",
       "      <td>-0.370673</td>\n",
       "      <td>-0.313873</td>\n",
       "      <td>-0.524847</td>\n",
       "    </tr>\n",
       "    <tr>\n",
       "      <th>3</th>\n",
       "      <td>0</td>\n",
       "      <td>-0.473960</td>\n",
       "      <td>0.575011</td>\n",
       "      <td>0.436541</td>\n",
       "      <td>0.486070</td>\n",
       "      <td>0.330173</td>\n",
       "      <td>-0.184301</td>\n",
       "      <td>0.498586</td>\n",
       "      <td>0.083016</td>\n",
       "      <td>0.342912</td>\n",
       "      <td>0.481614</td>\n",
       "    </tr>\n",
       "    <tr>\n",
       "      <th>4</th>\n",
       "      <td>0</td>\n",
       "      <td>-0.473960</td>\n",
       "      <td>-0.944679</td>\n",
       "      <td>0.436541</td>\n",
       "      <td>0.000873</td>\n",
       "      <td>0.283160</td>\n",
       "      <td>0.389026</td>\n",
       "      <td>0.216515</td>\n",
       "      <td>-0.370673</td>\n",
       "      <td>-0.835846</td>\n",
       "      <td>0.001630</td>\n",
       "    </tr>\n",
       "    <tr>\n",
       "      <th>...</th>\n",
       "      <td>...</td>\n",
       "      <td>...</td>\n",
       "      <td>...</td>\n",
       "      <td>...</td>\n",
       "      <td>...</td>\n",
       "      <td>...</td>\n",
       "      <td>...</td>\n",
       "      <td>...</td>\n",
       "      <td>...</td>\n",
       "      <td>...</td>\n",
       "      <td>...</td>\n",
       "    </tr>\n",
       "    <tr>\n",
       "      <th>1469010</th>\n",
       "      <td>0</td>\n",
       "      <td>0.325955</td>\n",
       "      <td>-0.944679</td>\n",
       "      <td>-1.071616</td>\n",
       "      <td>0.000873</td>\n",
       "      <td>0.283160</td>\n",
       "      <td>0.389026</td>\n",
       "      <td>-0.144198</td>\n",
       "      <td>0.083016</td>\n",
       "      <td>0.342912</td>\n",
       "      <td>0.001630</td>\n",
       "    </tr>\n",
       "    <tr>\n",
       "      <th>1469011</th>\n",
       "      <td>0</td>\n",
       "      <td>-0.473960</td>\n",
       "      <td>-0.944679</td>\n",
       "      <td>-1.071616</td>\n",
       "      <td>0.000873</td>\n",
       "      <td>-0.240037</td>\n",
       "      <td>0.389026</td>\n",
       "      <td>-0.144198</td>\n",
       "      <td>0.874519</td>\n",
       "      <td>0.342912</td>\n",
       "      <td>0.001630</td>\n",
       "    </tr>\n",
       "    <tr>\n",
       "      <th>1469012</th>\n",
       "      <td>0</td>\n",
       "      <td>-0.473960</td>\n",
       "      <td>0.575011</td>\n",
       "      <td>-1.071616</td>\n",
       "      <td>-0.529525</td>\n",
       "      <td>0.330173</td>\n",
       "      <td>0.389026</td>\n",
       "      <td>-0.144198</td>\n",
       "      <td>0.874519</td>\n",
       "      <td>0.342912</td>\n",
       "      <td>-0.524847</td>\n",
       "    </tr>\n",
       "    <tr>\n",
       "      <th>1469013</th>\n",
       "      <td>0</td>\n",
       "      <td>0.325955</td>\n",
       "      <td>0.575011</td>\n",
       "      <td>-1.071616</td>\n",
       "      <td>-0.529525</td>\n",
       "      <td>0.330173</td>\n",
       "      <td>0.389026</td>\n",
       "      <td>-0.144198</td>\n",
       "      <td>-0.248311</td>\n",
       "      <td>0.342912</td>\n",
       "      <td>0.001630</td>\n",
       "    </tr>\n",
       "    <tr>\n",
       "      <th>1469014</th>\n",
       "      <td>0</td>\n",
       "      <td>-0.473960</td>\n",
       "      <td>0.575011</td>\n",
       "      <td>-1.071616</td>\n",
       "      <td>-0.134334</td>\n",
       "      <td>0.330173</td>\n",
       "      <td>0.389026</td>\n",
       "      <td>-0.144198</td>\n",
       "      <td>0.083016</td>\n",
       "      <td>-0.085614</td>\n",
       "      <td>-0.133866</td>\n",
       "    </tr>\n",
       "  </tbody>\n",
       "</table>\n",
       "<p>1469015 rows × 11 columns</p>\n",
       "</div>"
      ],
      "text/plain": [
       "         Default  cnt_borr_woe  fico_woe  dt_first_pi_woe   ltv_woe  \\\n",
       "0              0     -0.473960  0.575011         0.436541  0.000873   \n",
       "1              1      0.325955 -0.944679         0.436541  0.486070   \n",
       "2              0     -0.473960 -0.944679         0.436541 -0.529525   \n",
       "3              0     -0.473960  0.575011         0.436541  0.486070   \n",
       "4              0     -0.473960 -0.944679         0.436541  0.000873   \n",
       "...          ...           ...       ...              ...       ...   \n",
       "1469010        0      0.325955 -0.944679        -1.071616  0.000873   \n",
       "1469011        0     -0.473960 -0.944679        -1.071616  0.000873   \n",
       "1469012        0     -0.473960  0.575011        -1.071616 -0.529525   \n",
       "1469013        0      0.325955  0.575011        -1.071616 -0.529525   \n",
       "1469014        0     -0.473960  0.575011        -1.071616 -0.134334   \n",
       "\n",
       "         int_rt_woe  servicer_name_woe  mi_pct_woe    st_woe   dti_woe  \\\n",
       "0          0.330173           0.389026   -0.144198 -0.370673  0.342912   \n",
       "1         -0.240037           0.389026    0.498586 -0.370673 -0.313873   \n",
       "2          0.283160           0.389026   -0.144198 -0.370673 -0.313873   \n",
       "3          0.330173          -0.184301    0.498586  0.083016  0.342912   \n",
       "4          0.283160           0.389026    0.216515 -0.370673 -0.835846   \n",
       "...             ...                ...         ...       ...       ...   \n",
       "1469010    0.283160           0.389026   -0.144198  0.083016  0.342912   \n",
       "1469011   -0.240037           0.389026   -0.144198  0.874519  0.342912   \n",
       "1469012    0.330173           0.389026   -0.144198  0.874519  0.342912   \n",
       "1469013    0.330173           0.389026   -0.144198 -0.248311  0.342912   \n",
       "1469014    0.330173           0.389026   -0.144198  0.083016 -0.085614   \n",
       "\n",
       "         cltv_woe  \n",
       "0        0.001630  \n",
       "1        0.481614  \n",
       "2       -0.524847  \n",
       "3        0.481614  \n",
       "4        0.001630  \n",
       "...           ...  \n",
       "1469010  0.001630  \n",
       "1469011  0.001630  \n",
       "1469012 -0.524847  \n",
       "1469013  0.001630  \n",
       "1469014 -0.133866  \n",
       "\n",
       "[1469015 rows x 11 columns]"
      ]
     },
     "execution_count": 3,
     "metadata": {},
     "output_type": "execute_result"
    }
   ],
   "source": []
  },
  {
   "cell_type": "code",
   "execution_count": 68,
   "metadata": {},
   "outputs": [],
   "source": [
    "from sklearn.linear_model import LogisticRegressionCV\n",
    "\n",
    "LRClassifier = LogisticRegressionCV(penalty='l1', # Type of penalization l1 = lasso, l2 = ridge\n",
    "                                     Cs = 10,        # How many parameters to try. Can also be a vector with parameters to try.\n",
    "                                     tol=0.0001, # Tolerance for parameters\n",
    "                                     cv = 3,     # How many CV folds to try. 3 or 5 should be enough.\n",
    "                                     fit_intercept=True, # Use constant?\n",
    "                                     class_weight='balanced', # Weights, see below\n",
    "                                     random_state=251120887, # Random seed\n",
    "                                     max_iter=100, # Maximum iterations\n",
    "                                     verbose=0, # Show process. 1 is yes.\n",
    "                                     solver = 'saga', # How to optimize.\n",
    "                                     n_jobs = 2,      # Processes to use. Set to number of physical cores. \n",
    "                                     refit = True     # If to retrain with the best parameter and all data after finishing.\n",
    "                                    )"
   ]
  },
  {
   "cell_type": "code",
   "execution_count": 69,
   "metadata": {},
   "outputs": [
    {
     "name": "stderr",
     "output_type": "stream",
     "text": [
      "D:\\Work\\Anaconda\\lib\\site-packages\\sklearn\\linear_model\\sag.py:326: ConvergenceWarning: The max_iter was reached which means the coef_ did not converge\n",
      "  \"the coef_ did not converge\", ConvergenceWarning)\n",
      "D:\\Work\\Anaconda\\lib\\site-packages\\sklearn\\linear_model\\sag.py:326: ConvergenceWarning: The max_iter was reached which means the coef_ did not converge\n",
      "  \"the coef_ did not converge\", ConvergenceWarning)\n",
      "D:\\Work\\Anaconda\\lib\\site-packages\\sklearn\\linear_model\\sag.py:326: ConvergenceWarning: The max_iter was reached which means the coef_ did not converge\n",
      "  \"the coef_ did not converge\", ConvergenceWarning)\n",
      "D:\\Work\\Anaconda\\lib\\site-packages\\sklearn\\linear_model\\sag.py:326: ConvergenceWarning: The max_iter was reached which means the coef_ did not converge\n",
      "  \"the coef_ did not converge\", ConvergenceWarning)\n",
      "D:\\Work\\Anaconda\\lib\\site-packages\\sklearn\\linear_model\\sag.py:326: ConvergenceWarning: The max_iter was reached which means the coef_ did not converge\n",
      "  \"the coef_ did not converge\", ConvergenceWarning)\n",
      "D:\\Work\\Anaconda\\lib\\site-packages\\sklearn\\linear_model\\sag.py:326: ConvergenceWarning: The max_iter was reached which means the coef_ did not converge\n",
      "  \"the coef_ did not converge\", ConvergenceWarning)\n",
      "D:\\Work\\Anaconda\\lib\\site-packages\\sklearn\\linear_model\\sag.py:326: ConvergenceWarning: The max_iter was reached which means the coef_ did not converge\n",
      "  \"the coef_ did not converge\", ConvergenceWarning)\n",
      "D:\\Work\\Anaconda\\lib\\site-packages\\sklearn\\linear_model\\sag.py:326: ConvergenceWarning: The max_iter was reached which means the coef_ did not converge\n",
      "  \"the coef_ did not converge\", ConvergenceWarning)\n",
      "D:\\Work\\Anaconda\\lib\\site-packages\\sklearn\\linear_model\\sag.py:326: ConvergenceWarning: The max_iter was reached which means the coef_ did not converge\n",
      "  \"the coef_ did not converge\", ConvergenceWarning)\n",
      "D:\\Work\\Anaconda\\lib\\site-packages\\sklearn\\linear_model\\sag.py:326: ConvergenceWarning: The max_iter was reached which means the coef_ did not converge\n",
      "  \"the coef_ did not converge\", ConvergenceWarning)\n",
      "D:\\Work\\Anaconda\\lib\\site-packages\\sklearn\\linear_model\\sag.py:326: ConvergenceWarning: The max_iter was reached which means the coef_ did not converge\n",
      "  \"the coef_ did not converge\", ConvergenceWarning)\n",
      "D:\\Work\\Anaconda\\lib\\site-packages\\sklearn\\linear_model\\sag.py:326: ConvergenceWarning: The max_iter was reached which means the coef_ did not converge\n",
      "  \"the coef_ did not converge\", ConvergenceWarning)\n",
      "D:\\Work\\Anaconda\\lib\\site-packages\\sklearn\\linear_model\\sag.py:326: ConvergenceWarning: The max_iter was reached which means the coef_ did not converge\n",
      "  \"the coef_ did not converge\", ConvergenceWarning)\n",
      "D:\\Work\\Anaconda\\lib\\site-packages\\sklearn\\linear_model\\sag.py:326: ConvergenceWarning: The max_iter was reached which means the coef_ did not converge\n",
      "  \"the coef_ did not converge\", ConvergenceWarning)\n",
      "D:\\Work\\Anaconda\\lib\\site-packages\\sklearn\\linear_model\\sag.py:326: ConvergenceWarning: The max_iter was reached which means the coef_ did not converge\n",
      "  \"the coef_ did not converge\", ConvergenceWarning)\n",
      "D:\\Work\\Anaconda\\lib\\site-packages\\sklearn\\linear_model\\sag.py:326: ConvergenceWarning: The max_iter was reached which means the coef_ did not converge\n",
      "  \"the coef_ did not converge\", ConvergenceWarning)\n",
      "D:\\Work\\Anaconda\\lib\\site-packages\\sklearn\\linear_model\\sag.py:326: ConvergenceWarning: The max_iter was reached which means the coef_ did not converge\n",
      "  \"the coef_ did not converge\", ConvergenceWarning)\n",
      "D:\\Work\\Anaconda\\lib\\site-packages\\sklearn\\linear_model\\sag.py:326: ConvergenceWarning: The max_iter was reached which means the coef_ did not converge\n",
      "  \"the coef_ did not converge\", ConvergenceWarning)\n",
      "D:\\Work\\Anaconda\\lib\\site-packages\\sklearn\\linear_model\\sag.py:326: ConvergenceWarning: The max_iter was reached which means the coef_ did not converge\n",
      "  \"the coef_ did not converge\", ConvergenceWarning)\n",
      "D:\\Work\\Anaconda\\lib\\site-packages\\sklearn\\linear_model\\sag.py:326: ConvergenceWarning: The max_iter was reached which means the coef_ did not converge\n",
      "  \"the coef_ did not converge\", ConvergenceWarning)\n",
      "D:\\Work\\Anaconda\\lib\\site-packages\\sklearn\\linear_model\\sag.py:326: ConvergenceWarning: The max_iter was reached which means the coef_ did not converge\n",
      "  \"the coef_ did not converge\", ConvergenceWarning)\n",
      "D:\\Work\\Anaconda\\lib\\site-packages\\sklearn\\linear_model\\sag.py:326: ConvergenceWarning: The max_iter was reached which means the coef_ did not converge\n",
      "  \"the coef_ did not converge\", ConvergenceWarning)\n",
      "D:\\Work\\Anaconda\\lib\\site-packages\\sklearn\\linear_model\\sag.py:326: ConvergenceWarning: The max_iter was reached which means the coef_ did not converge\n",
      "  \"the coef_ did not converge\", ConvergenceWarning)\n",
      "D:\\Work\\Anaconda\\lib\\site-packages\\sklearn\\linear_model\\sag.py:326: ConvergenceWarning: The max_iter was reached which means the coef_ did not converge\n",
      "  \"the coef_ did not converge\", ConvergenceWarning)\n",
      "D:\\Work\\Anaconda\\lib\\site-packages\\sklearn\\linear_model\\sag.py:326: ConvergenceWarning: The max_iter was reached which means the coef_ did not converge\n",
      "  \"the coef_ did not converge\", ConvergenceWarning)\n",
      "D:\\Work\\Anaconda\\lib\\site-packages\\sklearn\\linear_model\\sag.py:326: ConvergenceWarning: The max_iter was reached which means the coef_ did not converge\n",
      "  \"the coef_ did not converge\", ConvergenceWarning)\n",
      "D:\\Work\\Anaconda\\lib\\site-packages\\sklearn\\linear_model\\sag.py:326: ConvergenceWarning: The max_iter was reached which means the coef_ did not converge\n",
      "  \"the coef_ did not converge\", ConvergenceWarning)\n",
      "D:\\Work\\Anaconda\\lib\\site-packages\\sklearn\\linear_model\\sag.py:326: ConvergenceWarning: The max_iter was reached which means the coef_ did not converge\n",
      "  \"the coef_ did not converge\", ConvergenceWarning)\n",
      "D:\\Work\\Anaconda\\lib\\site-packages\\sklearn\\linear_model\\sag.py:326: ConvergenceWarning: The max_iter was reached which means the coef_ did not converge\n",
      "  \"the coef_ did not converge\", ConvergenceWarning)\n",
      "D:\\Work\\Anaconda\\lib\\site-packages\\sklearn\\linear_model\\sag.py:326: ConvergenceWarning: The max_iter was reached which means the coef_ did not converge\n",
      "  \"the coef_ did not converge\", ConvergenceWarning)\n",
      "D:\\Work\\Anaconda\\lib\\site-packages\\sklearn\\linear_model\\sag.py:326: ConvergenceWarning: The max_iter was reached which means the coef_ did not converge\n",
      "  \"the coef_ did not converge\", ConvergenceWarning)\n"
     ]
    },
    {
     "data": {
      "text/plain": [
       "LogisticRegressionCV(Cs=10, class_weight='balanced', cv=3, dual=False,\n",
       "           fit_intercept=True, intercept_scaling=1.0, max_iter=100,\n",
       "           multi_class='ovr', n_jobs=2, penalty='l1',\n",
       "           random_state=251120887, refit=True, scoring=None, solver='saga',\n",
       "           tol=0.0001, verbose=0)"
      ]
     },
     "execution_count": 69,
     "metadata": {},
     "output_type": "execute_result"
    }
   ],
   "source": [
    "LRClassifier.fit(X = train_woe.iloc[:, 1:], # All rows and from the second var to end\n",
    "                    y = train_woe['Default'] # The target  \n",
    "                   )"
   ]
  },
  {
   "cell_type": "markdown",
   "metadata": {},
   "source": [
    "The LR model cannot converge. But it costs too much time to run this, so we do not add more trials like increasing the max iteration number. \n",
    "\n",
    "Let's check the parameters"
   ]
  },
  {
   "cell_type": "code",
   "execution_count": 71,
   "metadata": {},
   "outputs": [
    {
     "data": {
      "text/html": [
       "<div>\n",
       "<style scoped>\n",
       "    .dataframe tbody tr th:only-of-type {\n",
       "        vertical-align: middle;\n",
       "    }\n",
       "\n",
       "    .dataframe tbody tr th {\n",
       "        vertical-align: top;\n",
       "    }\n",
       "\n",
       "    .dataframe thead th {\n",
       "        text-align: right;\n",
       "    }\n",
       "</style>\n",
       "<table border=\"1\" class=\"dataframe\">\n",
       "  <thead>\n",
       "    <tr style=\"text-align: right;\">\n",
       "      <th></th>\n",
       "      <th>column</th>\n",
       "      <th>0</th>\n",
       "    </tr>\n",
       "  </thead>\n",
       "  <tbody>\n",
       "    <tr>\n",
       "      <th>0</th>\n",
       "      <td>cnt_borr_woe</td>\n",
       "      <td>2.736585</td>\n",
       "    </tr>\n",
       "    <tr>\n",
       "      <th>1</th>\n",
       "      <td>fico_woe</td>\n",
       "      <td>1.450336</td>\n",
       "    </tr>\n",
       "    <tr>\n",
       "      <th>2</th>\n",
       "      <td>dt_first_pi_woe</td>\n",
       "      <td>0.316423</td>\n",
       "    </tr>\n",
       "    <tr>\n",
       "      <th>3</th>\n",
       "      <td>ltv_woe</td>\n",
       "      <td>0.558673</td>\n",
       "    </tr>\n",
       "    <tr>\n",
       "      <th>4</th>\n",
       "      <td>int_rt_woe</td>\n",
       "      <td>3.713497</td>\n",
       "    </tr>\n",
       "    <tr>\n",
       "      <th>5</th>\n",
       "      <td>servicer_name_woe</td>\n",
       "      <td>2.695035</td>\n",
       "    </tr>\n",
       "    <tr>\n",
       "      <th>6</th>\n",
       "      <td>mi_pct_woe</td>\n",
       "      <td>-2.699068</td>\n",
       "    </tr>\n",
       "    <tr>\n",
       "      <th>7</th>\n",
       "      <td>st_woe</td>\n",
       "      <td>0.813105</td>\n",
       "    </tr>\n",
       "    <tr>\n",
       "      <th>8</th>\n",
       "      <td>dti_woe</td>\n",
       "      <td>1.235007</td>\n",
       "    </tr>\n",
       "    <tr>\n",
       "      <th>9</th>\n",
       "      <td>cltv_woe</td>\n",
       "      <td>0.427771</td>\n",
       "    </tr>\n",
       "  </tbody>\n",
       "</table>\n",
       "</div>"
      ],
      "text/plain": [
       "              column         0\n",
       "0       cnt_borr_woe  2.736585\n",
       "1           fico_woe  1.450336\n",
       "2    dt_first_pi_woe  0.316423\n",
       "3            ltv_woe  0.558673\n",
       "4         int_rt_woe  3.713497\n",
       "5  servicer_name_woe  2.695035\n",
       "6         mi_pct_woe -2.699068\n",
       "7             st_woe  0.813105\n",
       "8            dti_woe  1.235007\n",
       "9           cltv_woe  0.427771"
      ]
     },
     "execution_count": 71,
     "metadata": {},
     "output_type": "execute_result"
    }
   ],
   "source": [
    "coef_df = pd.concat([pd.DataFrame({'column': train_woe.columns[1:]}), \n",
    "                    pd.DataFrame(np.transpose(LRClassifier.coef_))],\n",
    "                    axis = 1\n",
    "                   )\n",
    "\n",
    "coef_df"
   ]
  },
  {
   "cell_type": "code",
   "execution_count": 72,
   "metadata": {},
   "outputs": [
    {
     "data": {
      "text/plain": [
       "array([0.04831135])"
      ]
     },
     "execution_count": 72,
     "metadata": {},
     "output_type": "execute_result"
    }
   ],
   "source": [
    "LRClassifier.intercept_"
   ]
  },
  {
   "cell_type": "markdown",
   "metadata": {},
   "source": [
    "Apply trained model to test data"
   ]
  },
  {
   "cell_type": "code",
   "execution_count": 83,
   "metadata": {},
   "outputs": [
    {
     "data": {
      "text/plain": [
       "15369"
      ]
     },
     "execution_count": 83,
     "metadata": {},
     "output_type": "execute_result"
    }
   ],
   "source": [
    "test_woe['Default'].sum() "
   ]
  },
  {
   "cell_type": "code",
   "execution_count": 73,
   "metadata": {},
   "outputs": [
    {
     "data": {
      "text/plain": [
       "221978"
      ]
     },
     "execution_count": 73,
     "metadata": {},
     "output_type": "execute_result"
    }
   ],
   "source": [
    "pred_class_test = LRClassifier.predict(test_woe.iloc[:, 1:])\n",
    "probs_test = LRClassifier.predict_proba(test_woe.iloc[:, 1:])\n",
    "pred_class_test.sum()"
   ]
  },
  {
   "cell_type": "markdown",
   "metadata": {},
   "source": [
    "It looks the model predict many more good loans as default."
   ]
  },
  {
   "cell_type": "markdown",
   "metadata": {},
   "source": [
    "Check the classification results."
   ]
  },
  {
   "cell_type": "code",
   "execution_count": 74,
   "metadata": {},
   "outputs": [],
   "source": [
    "from sklearn.metrics import roc_auc_score, confusion_matrix, roc_curve"
   ]
  },
  {
   "cell_type": "code",
   "execution_count": 75,
   "metadata": {},
   "outputs": [
    {
     "data": {
      "text/plain": [
       "array([[403120, 211089],\n",
       "       [  4480,  10889]], dtype=int64)"
      ]
     },
     "execution_count": 75,
     "metadata": {},
     "output_type": "execute_result"
    }
   ],
   "source": [
    "#Calculate confusion matrix\n",
    "confusion_matrix_lr = confusion_matrix(y_true = test_woe['Default'], \n",
    "                    y_pred = pred_class_test)\n",
    "\n",
    "\n",
    "confusion_matrix_lr"
   ]
  },
  {
   "cell_type": "code",
   "execution_count": 76,
   "metadata": {},
   "outputs": [
    {
     "data": {
      "image/png": "[encoded data removed]",
      "text/plain": [
       "<Figure size 720x504 with 2 Axes>"
      ]
     },
     "metadata": {},
     "output_type": "display_data"
    },
    {
     "name": "stderr",
     "output_type": "stream",
     "text": [
      "D:\\Work\\Anaconda\\lib\\site-packages\\sklearn\\linear_model\\sag.py:326: ConvergenceWarning: The max_iter was reached which means the coef_ did not converge\n",
      "  \"the coef_ did not converge\", ConvergenceWarning)\n"
     ]
    }
   ],
   "source": [
    "# # Turn matrix to percentages\n",
    "confusion_matrix_lr = confusion_matrix_lr.astype('float') / confusion_matrix_lr.sum(axis=1)[:, np.newaxis]\n",
    "\n",
    "# Turn to dataframe\n",
    "df_cm = pd.DataFrame(\n",
    "        confusion_matrix_lr, index=['good', 'bad'], columns=['good', 'bad'], \n",
    ")\n",
    "\n",
    "# Parameters of the image\n",
    "figsize = (10,7)\n",
    "fontsize=14\n",
    "\n",
    "# Create image\n",
    "fig = plt.figure(figsize=figsize)\n",
    "heatmap = sns.heatmap(df_cm, annot=True, fmt='.2f')\n",
    "\n",
    "# Make it nicer\n",
    "heatmap.yaxis.set_ticklabels(heatmap.yaxis.get_ticklabels(), rotation=0, \n",
    "                             ha='right', fontsize=fontsize)\n",
    "heatmap.xaxis.set_ticklabels(heatmap.xaxis.get_ticklabels(), rotation=45,\n",
    "                             ha='right', fontsize=fontsize)\n",
    "\n",
    "# Add labels\n",
    "plt.ylabel('True label')\n",
    "plt.xlabel('Predicted label')\n",
    "\n",
    "# Plot!\n",
    "plt.show()"
   ]
  },
  {
   "cell_type": "code",
   "execution_count": 77,
   "metadata": {},
   "outputs": [
    {
     "name": "stdout",
     "output_type": "stream",
     "text": [
      "LR              precision    recall  f1-score   support\n",
      "\n",
      "          0     0.9890    0.6563    0.7890    614209\n",
      "          1     0.0491    0.7085    0.0918     15369\n",
      "\n",
      "avg / total     0.9661    0.6576    0.7720    629578\n",
      "\n"
     ]
    }
   ],
   "source": [
    "from sklearn.metrics import classification_report\n",
    "\n",
    "print(\"LR\",classification_report(test_woe['Default'], pred_class_test, target_names=None,digits=4))"
   ]
  },
  {
   "cell_type": "markdown",
   "metadata": {},
   "source": [
    "The precision, recall and F1-score looks not so bad though. Let's look at AUC."
   ]
  },
  {
   "cell_type": "code",
   "execution_count": 78,
   "metadata": {},
   "outputs": [
    {
     "data": {
      "image/png": "[encoded data removed]",
      "text/plain": [
       "<Figure size 432x288 with 1 Axes>"
      ]
     },
     "metadata": {},
     "output_type": "display_data"
    },
    {
     "name": "stderr",
     "output_type": "stream",
     "text": [
      "D:\\Work\\Anaconda\\lib\\site-packages\\sklearn\\linear_model\\sag.py:326: ConvergenceWarning: The max_iter was reached which means the coef_ did not converge\n",
      "  \"the coef_ did not converge\", ConvergenceWarning)\n"
     ]
    }
   ],
   "source": [
    "# Calculate the ROC curve points\n",
    "fpr, tpr, thresholds = roc_curve(test['Default'], probs_test[:,1])\n",
    "\n",
    "# Save the AUC in a variable to display it. Round it first\n",
    "auc = np.round(roc_auc_score(y_true = test['Default'], \n",
    "                             y_score = probs_test[:,1]),\n",
    "              decimals = 3)\n",
    "\n",
    "# Create and show the plot\n",
    "plt.plot(fpr,tpr,label=\"LR, auc=\"+str(auc))\n",
    "plt.legend(loc=4)\n",
    "plt.show()"
   ]
  },
  {
   "cell_type": "markdown",
   "metadata": {},
   "source": [
    "The AUC score is not very ideal.:("
   ]
  },
  {
   "cell_type": "markdown",
   "metadata": {},
   "source": [
    "Create scorecard."
   ]
  },
  {
   "cell_type": "code",
   "execution_count": 79,
   "metadata": {},
   "outputs": [
    {
     "ename": "NameError",
     "evalue": "name 'bins' is not defined",
     "output_type": "error",
     "traceback": [
      "\u001b[1;31m---------------------------------------------------------------------------\u001b[0m",
      "\u001b[1;31mNameError\u001b[0m                                 Traceback (most recent call last)",
      "\u001b[1;32m<ipython-input-79-204bd135fbb4>\u001b[0m in \u001b[0;36m<module>\u001b[1;34m()\u001b[0m\n\u001b[0;32m      1\u001b[0m \u001b[1;31m# Calculate scorecard\u001b[0m\u001b[1;33m\u001b[0m\u001b[1;33m\u001b[0m\u001b[0m\n\u001b[1;32m----> 2\u001b[1;33m LR_sc = sc.scorecard(bins, LRClassifier, \n\u001b[0m\u001b[0;32m      3\u001b[0m              \u001b[0mtrain_woe\u001b[0m\u001b[1;33m.\u001b[0m\u001b[0mcolumns\u001b[0m\u001b[1;33m[\u001b[0m\u001b[1;36m1\u001b[0m\u001b[1;33m:\u001b[0m\u001b[1;33m]\u001b[0m\u001b[1;33m,\u001b[0m \u001b[1;31m# The column names in the trained LR\u001b[0m\u001b[1;33m\u001b[0m\u001b[0m\n\u001b[0;32m      4\u001b[0m              \u001b[0mpoints0\u001b[0m\u001b[1;33m=\u001b[0m\u001b[1;36m750\u001b[0m\u001b[1;33m,\u001b[0m \u001b[1;31m# Base points\u001b[0m\u001b[1;33m\u001b[0m\u001b[0m\n\u001b[0;32m      5\u001b[0m              \u001b[0modds0\u001b[0m\u001b[1;33m=\u001b[0m\u001b[1;36m0.01\u001b[0m\u001b[1;33m,\u001b[0m \u001b[1;31m# Base odds\u001b[0m\u001b[1;33m\u001b[0m\u001b[0m\n",
      "\u001b[1;31mNameError\u001b[0m: name 'bins' is not defined"
     ]
    }
   ],
   "source": [
    "# Calculate scorecard\n",
    "LR_sc = sc.scorecard(bins, LRClassifier, \n",
    "             train_woe.columns[1:], # The column names in the trained LR\n",
    "             points0=750, # Base points\n",
    "             odds0=0.01, # Base odds\n",
    "             pdo=50) # PDO "
   ]
  },
  {
   "cell_type": "code",
   "execution_count": 89,
   "metadata": {},
   "outputs": [
    {
     "name": "stderr",
     "output_type": "stream",
     "text": [
      "C:\\Users\\23607\\AppData\\Roaming\\Python\\Python36\\site-packages\\pandas\\core\\indexing.py:1596: SettingWithCopyWarning: \n",
      "A value is trying to be set on a copy of a slice from a DataFrame.\n",
      "Try using .loc[row_indexer,col_indexer] = value instead\n",
      "\n",
      "See the caveats in the documentation: https://pandas.pydata.org/pandas-docs/stable/user_guide/indexing.html#returning-a-view-versus-a-copy\n",
      "  self.obj[key] = _infer_fill_value(value)\n",
      "C:\\Users\\23607\\AppData\\Roaming\\Python\\Python36\\site-packages\\pandas\\core\\indexing.py:1781: SettingWithCopyWarning: \n",
      "A value is trying to be set on a copy of a slice from a DataFrame.\n",
      "Try using .loc[row_indexer,col_indexer] = value instead\n",
      "\n",
      "See the caveats in the documentation: https://pandas.pydata.org/pandas-docs/stable/user_guide/indexing.html#returning-a-view-versus-a-copy\n",
      "  self.obj[item_labels[indexer[info_axis]]] = value\n"
     ]
    }
   ],
   "source": [
    "# Applying the credit score. Applies over the original data!\n",
    "train_score = sc.scorecard_ply(train, LR_sc, \n",
    "                               print_step=0)\n",
    "test_score = sc.scorecard_ply(test, LR_sc, \n",
    "                               print_step=0)"
   ]
  },
  {
   "cell_type": "code",
   "execution_count": 67,
   "metadata": {},
   "outputs": [
    {
     "ename": "NameError",
     "evalue": "name 'train_score' is not defined",
     "output_type": "error",
     "traceback": [
      "\u001b[1;31m---------------------------------------------------------------------------\u001b[0m",
      "\u001b[1;31mNameError\u001b[0m                                 Traceback (most recent call last)",
      "\u001b[1;32m<ipython-input-67-d4dff1ef7af9>\u001b[0m in \u001b[0;36m<module>\u001b[1;34m()\u001b[0m\n\u001b[1;32m----> 1\u001b[1;33m \u001b[0mtrain_score\u001b[0m\u001b[1;33m.\u001b[0m\u001b[0mdescribe\u001b[0m\u001b[1;33m(\u001b[0m\u001b[1;33m)\u001b[0m\u001b[1;33m\u001b[0m\u001b[0m\n\u001b[0m",
      "\u001b[1;31mNameError\u001b[0m: name 'train_score' is not defined"
     ]
    }
   ],
   "source": [
    "train_score.describe()"
   ]
  },
  {
   "cell_type": "markdown",
   "metadata": {},
   "source": [
    "### Random Forest"
   ]
  },
  {
   "cell_type": "code",
   "execution_count": 37,
   "metadata": {},
   "outputs": [],
   "source": [
    "from sklearn.ensemble import RandomForestClassifier\n",
    "\n",
    "#Define the classifier\n",
    "RFClassifier = RandomForestClassifier(n_estimators=1000, # Number of trees to train\n",
    "                       criterion='gini', # How to train the trees. Also supports entropy.\n",
    "                       max_depth=None, # Max depth of the trees. Not necessary to change.\n",
    "                       min_samples_split=2, # Minimum samples to create a split.\n",
    "                       min_samples_leaf=0.001, # Minimum samples in a leaf. Accepts fractions for %. This is 0.1% of sample.\n",
    "                       min_weight_fraction_leaf=0.0, # Same as above, but uses the class weights.\n",
    "                       max_features='auto', # Maximum number of features per split (not tree!) by default is sqrt(vars)\n",
    "                       max_leaf_nodes=None, # Maximum number of nodes.\n",
    "                       min_impurity_decrease=0.0001, # Minimum impurity decrease. This is 10^-3.\n",
    "                       bootstrap=True, # If sample with repetition. For large samples (>100.000) set to false.\n",
    "                       oob_score=True,  # If report accuracy with non-selected cases.\n",
    "                       n_jobs=-1, # Parallel processing. Set to -1 for all cores. Watch your RAM!!\n",
    "                       random_state=251120887, # Seed\n",
    "                       verbose=1, # If to give info during training. Set to 0 for silent training.\n",
    "                       warm_start=False, # If train over previously trained tree.\n",
    "                       class_weight='balanced'\n",
    "                                    )"
   ]
  },
  {
   "cell_type": "code",
   "execution_count": 38,
   "metadata": {},
   "outputs": [
    {
     "name": "stderr",
     "output_type": "stream",
     "text": [
      "[Parallel(n_jobs=-1)]: Done  34 tasks      | elapsed:   27.4s\n",
      "[Parallel(n_jobs=-1)]: Done 184 tasks      | elapsed:  2.1min\n",
      "[Parallel(n_jobs=-1)]: Done 434 tasks      | elapsed:  4.8min\n",
      "[Parallel(n_jobs=-1)]: Done 784 tasks      | elapsed:  8.7min\n",
      "[Parallel(n_jobs=-1)]: Done 1000 out of 1000 | elapsed: 11.2min finished\n"
     ]
    },
    {
     "data": {
      "text/plain": [
       "RandomForestClassifier(bootstrap=True, class_weight='balanced',\n",
       "            criterion='gini', max_depth=None, max_features='auto',\n",
       "            max_leaf_nodes=None, min_impurity_decrease=0.0001,\n",
       "            min_impurity_split=None, min_samples_leaf=0.001,\n",
       "            min_samples_split=2, min_weight_fraction_leaf=0.0,\n",
       "            n_estimators=1000, n_jobs=-1, oob_score=True,\n",
       "            random_state=251120887, verbose=1, warm_start=False)"
      ]
     },
     "execution_count": 38,
     "metadata": {},
     "output_type": "execute_result"
    }
   ],
   "source": [
    "# Train the RF.\n",
    "RFClassifier.fit(train_noWoE.iloc[:,:-1], # X \n",
    "               train_noWoE['Default'])   # y"
   ]
  },
  {
   "cell_type": "code",
   "execution_count": 39,
   "metadata": {},
   "outputs": [
    {
     "name": "stderr",
     "output_type": "stream",
     "text": [
      "[Parallel(n_jobs=8)]: Done  34 tasks      | elapsed:    0.5s\n",
      "[Parallel(n_jobs=8)]: Done 184 tasks      | elapsed:    2.6s\n",
      "[Parallel(n_jobs=8)]: Done 434 tasks      | elapsed:    6.2s\n",
      "[Parallel(n_jobs=8)]: Done 784 tasks      | elapsed:   11.1s\n",
      "[Parallel(n_jobs=8)]: Done 1000 out of 1000 | elapsed:   14.2s finished\n",
      "[Parallel(n_jobs=8)]: Done  34 tasks      | elapsed:    0.4s\n",
      "[Parallel(n_jobs=8)]: Done 184 tasks      | elapsed:    2.6s\n",
      "[Parallel(n_jobs=8)]: Done 434 tasks      | elapsed:    6.2s\n",
      "[Parallel(n_jobs=8)]: Done 784 tasks      | elapsed:   11.0s\n",
      "[Parallel(n_jobs=8)]: Done 1000 out of 1000 | elapsed:   13.8s finished\n"
     ]
    }
   ],
   "source": [
    "rf_pred_class_test = RFClassifier.predict(test_noWoE.iloc[:, :-1])\n",
    "rf_probs_test = RFClassifier.predict_proba(test_noWoE.iloc[:, :-1])"
   ]
  },
  {
   "cell_type": "code",
   "execution_count": 42,
   "metadata": {},
   "outputs": [
    {
     "data": {
      "text/plain": [
       "array([[0.74717889, 0.25282111],\n",
       "       [0.24269634, 0.75730366]])"
      ]
     },
     "execution_count": 42,
     "metadata": {},
     "output_type": "execute_result"
    }
   ],
   "source": [
    "confusion_matrix_rf = confusion_matrix(y_true = test_noWoE['Default'], \n",
    "                    y_pred = rf_pred_class_test)\n",
    "\n",
    "# Turn matrix to percentages\n",
    "confusion_matrix_rf = confusion_matrix_rf.astype('float') / confusion_matrix_rf.sum(axis=1)[:, np.newaxis]\n",
    "confusion_matrix_rf"
   ]
  },
  {
   "cell_type": "code",
   "execution_count": 46,
   "metadata": {},
   "outputs": [
    {
     "data": {
      "image/png": "[encoded data removed]",
      "text/plain": [
       "<Figure size 720x504 with 2 Axes>"
      ]
     },
     "metadata": {},
     "output_type": "display_data"
    }
   ],
   "source": [
    "\n",
    "# Turn to dataframe\n",
    "df_cm = pd.DataFrame(\n",
    "        confusion_matrix_rf, index=['good', 'bad'], columns=['good', 'bad'], \n",
    ")\n",
    "\n",
    "# Parameters of the image\n",
    "figsize = (10,7)\n",
    "fontsize=14\n",
    "\n",
    "# Create image\n",
    "fig = plt.figure(figsize=figsize)\n",
    "heatmap = sns.heatmap(df_cm, annot=True, fmt='.2f')\n",
    "\n",
    "# Make it nicer\n",
    "heatmap.yaxis.set_ticklabels(heatmap.yaxis.get_ticklabels(), rotation=0, \n",
    "                             ha='right', fontsize=fontsize)\n",
    "heatmap.xaxis.set_ticklabels(heatmap.xaxis.get_ticklabels(), rotation=45,\n",
    "                             ha='right', fontsize=fontsize)\n",
    "\n",
    "# Add labels\n",
    "plt.ylabel('True label')\n",
    "plt.xlabel('Predicted label')\n",
    "\n",
    "# Plot!\n",
    "plt.show()"
   ]
  },
  {
   "cell_type": "markdown",
   "metadata": {},
   "source": [
    "The confusion matrix looks much better than Logistic Regression."
   ]
  },
  {
   "cell_type": "code",
   "execution_count": 47,
   "metadata": {},
   "outputs": [
    {
     "name": "stdout",
     "output_type": "stream",
     "text": [
      "RF              precision    recall  f1-score   support\n",
      "\n",
      "          0     0.9919    0.7472    0.8523    614209\n",
      "          1     0.0697    0.7573    0.1277     15369\n",
      "\n",
      "avg / total     0.9694    0.7474    0.8346    629578\n",
      "\n"
     ]
    }
   ],
   "source": [
    "from sklearn.metrics import classification_report\n",
    "\n",
    "print(\"RF\",classification_report(test_woe['Default'], rf_pred_class_test, target_names=None,digits=4))"
   ]
  },
  {
   "cell_type": "markdown",
   "metadata": {},
   "source": [
    "But the recall and F1-score is inferior to Logistic Regression."
   ]
  },
  {
   "cell_type": "code",
   "execution_count": 48,
   "metadata": {},
   "outputs": [
    {
     "data": {
      "image/png": "[encoded data removed]",
      "text/plain": [
       "<Figure size 432x288 with 1 Axes>"
      ]
     },
     "metadata": {},
     "output_type": "display_data"
    }
   ],
   "source": [
    "# Calculate the ROC curve points\n",
    "fpr, tpr, thresholds = roc_curve(test['Default'], rf_probs_test[:,1])\n",
    "\n",
    "# Save the AUC in a variable to display it. Round it first\n",
    "auc = np.round(roc_auc_score(y_true = test['Default'], \n",
    "                             y_score = rf_probs_test[:,1]),\n",
    "              decimals = 3)\n",
    "\n",
    "# Create and show the plot\n",
    "plt.plot(fpr,tpr,label=\"RF, auc=\"+str(auc))\n",
    "plt.legend(loc=4)\n",
    "plt.show()data:image/png;base64,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"
   ]
  },
  {
   "cell_type": "markdown",
   "metadata": {},
   "source": [
    "But the AUC is much better."
   ]
  },
  {
   "cell_type": "markdown",
   "metadata": {},
   "source": [
    "### XGBoost"
   ]
  },
  {
   "cell_type": "code",
   "execution_count": 52,
   "metadata": {},
   "outputs": [],
   "source": [
    "from xgboost import XGBClassifier\n",
    "#Define the classifier.\n",
    "XGB_loan = XGBClassifier(max_depth=3,                 # Depth of each tree\n",
    "                            learning_rate=0.1,            # How much to shrink error in each subsequent training. Trade-off with no. estimators.\n",
    "                            n_estimators=100,             # How many trees to use, the more the better, but decrease learning rate if many used.\n",
    "                            verbosity=1,                  # If to show more errors or not.\n",
    "                            objective='binary:logistic',  # Type of target variable.\n",
    "                            booster='gbtree',             # What to boost. Trees in this case.\n",
    "                            n_jobs=2,                     # Parallel jobs to run. Set your processor number.\n",
    "                            gamma=0.001,                  # Minimum loss reduction required to make a further partition on a leaf node of the tree. (Controls growth!)\n",
    "                            subsample=0.632,              # Subsample ratio. Can set lower\n",
    "                            colsample_bytree=1,           # Subsample ratio of columns when constructing each tree.\n",
    "                            colsample_bylevel=1,          # Subsample ratio of columns when constructing each level. 0.33 is similar to random forest.\n",
    "                            colsample_bynode=1,           # Subsample ratio of columns when constructing each split.\n",
    "                            reg_alpha=1,                  # Regularizer for first fit. alpha = 1, lambda = 0 is LASSO.\n",
    "                            reg_lambda=0,                 # Regularizer for first fit.\n",
    "                            scale_pos_weight=1,           # Balancing of positive and negative weights.\n",
    "                            base_score=0.5,               # Global bias. Set to average of the target rate.\n",
    "                            random_state=251120887,        # Seed\n",
    "                            missing=None                  # How are nulls encoded?\n",
    "                            )"
   ]
  },
  {
   "cell_type": "code",
   "execution_count": 54,
   "metadata": {},
   "outputs": [],
   "source": [
    "# Define the parameters. \n",
    "param_grid = dict({'n_estimators': [50, 100, 150],\n",
    "                   'max_depth': [2, 3, 4],\n",
    "                 'learning_rate' : [0.01, 0.05, 0.1, 0.15]\n",
    "                  })\n",
    "\n",
    "\n",
    "# Create validation set\n",
    "val_train = train_noWoE.sample(frac = 0.5,               # The fraction to extract\n",
    "                                       random_state = 251120887    # The seed.\n",
    "                                       )\n"
   ]
  },
  {
   "cell_type": "code",
   "execution_count": 56,
   "metadata": {},
   "outputs": [],
   "source": [
    "from sklearn.model_selection import GridSearchCV\n",
    "\n",
    "# Define grid search object.\n",
    "GridXGB = GridSearchCV(XGB_loan,        # Original XGB. \n",
    "                       param_grid,          # Parameter grid\n",
    "                       cv = 3,              # Number of cross-validation folds.  \n",
    "                       scoring = 'roc_auc', # How to rank outputs.\n",
    "                       n_jobs = 2,          # Parallel jobs. -1 is \"all you have\"\n",
    "                       refit = False,       # If refit at the end with the best. We'll do it manually.\n",
    "                       verbose = 1          # If to show what it is doing.\n",
    "                      )"
   ]
  },
  {
   "cell_type": "code",
   "execution_count": 57,
   "metadata": {},
   "outputs": [
    {
     "name": "stdout",
     "output_type": "stream",
     "text": [
      "Fitting 3 folds for each of 36 candidates, totalling 108 fits\n"
     ]
    },
    {
     "name": "stderr",
     "output_type": "stream",
     "text": [
      "[Parallel(n_jobs=2)]: Done  46 tasks      | elapsed: 11.7min\n",
      "[Parallel(n_jobs=2)]: Done 108 out of 108 | elapsed: 28.9min finished\n"
     ]
    },
    {
     "data": {
      "text/plain": [
       "GridSearchCV(cv=3, error_score='raise',\n",
       "       estimator=XGBClassifier(base_score=0.5, booster='gbtree', colsample_bylevel=1,\n",
       "       colsample_bynode=1, colsample_bytree=1, gamma=0.001, gpu_id=None,\n",
       "       importance_type='gain', interaction_constraints=None,\n",
       "       learning_rate=0.1, max_delta_step=None, max_depth=3,\n",
       "       min_child_weight=Non...scale_pos_weight=1, subsample=0.632, tree_method=None,\n",
       "       validate_parameters=None, verbosity=1),\n",
       "       fit_params=None, iid=True, n_jobs=2,\n",
       "       param_grid={'n_estimators': [50, 100, 150], 'max_depth': [2, 3, 4], 'learning_rate': [0.01, 0.05, 0.1, 0.15]},\n",
       "       pre_dispatch='2*n_jobs', refit=False, return_train_score='warn',\n",
       "       scoring='roc_auc', verbose=1)"
      ]
     },
     "execution_count": 57,
     "metadata": {},
     "output_type": "execute_result"
    }
   ],
   "source": [
    "# Train grid search.\n",
    "GridXGB.fit(val_train.iloc[:, :-1], val_train['Default'])"
   ]
  },
  {
   "cell_type": "code",
   "execution_count": 58,
   "metadata": {},
   "outputs": [
    {
     "data": {
      "text/plain": [
       "{'learning_rate': 0.15, 'max_depth': 4, 'n_estimators': 150}"
      ]
     },
     "execution_count": 58,
     "metadata": {},
     "output_type": "execute_result"
    }
   ],
   "source": [
    "# Show best params\n",
    "GridXGB.best_params_"
   ]
  },
  {
   "cell_type": "code",
   "execution_count": 60,
   "metadata": {},
   "outputs": [],
   "source": [
    "# Create XGB with best parameters.\n",
    "XGB_best = XGBClassifier(max_depth=GridXGB.best_params_.get('max_depth'), # Depth of each tree\n",
    "                            learning_rate=GridXGB.best_params_.get('learning_rate'), # How much to shrink error in each subsequent training. Trade-off with no. estimators.\n",
    "                            n_estimators=GridXGB.best_params_.get('n_estimators'), # How many trees to use, the more the better, but decrease learning rate if many used.\n",
    "                            verbosity=1,                  # If to show more errors or not.\n",
    "                            objective='binary:logistic',  # Type of target variable.\n",
    "                            booster='gbtree',             # What to boost. Trees in this case.\n",
    "                            n_jobs=4,                     # Parallel jobs to run. Set your processor number.\n",
    "                            gamma=0.001,                  # Minimum loss reduction required to make a further partition on a leaf node of the tree. (Controls growth!)\n",
    "                            subsample=1,                  # Subsample ratio. Can set lower\n",
    "                            colsample_bytree=1,           # Subsample ratio of columns when constructing each tree.\n",
    "                            colsample_bylevel=1,          # Subsample ratio of columns when constructing each level. 0.33 is similar to random forest.\n",
    "                            colsample_bynode=1,           # Subsample ratio of columns when constructing each split.\n",
    "                            reg_alpha=1,                  # Regularizer for first fit. alpha = 1, lambda = 0 is LASSO.\n",
    "                            reg_lambda=0,                 # Regularizer for first fit.\n",
    "                            scale_pos_weight=1,           # Balancing of positive and negative weights.\n",
    "                            base_score=0.5,               # Global bias. Set to average of the target rate.\n",
    "                            random_state=251120887,        # Seed\n",
    "                            missing=None                  # How are nulls encoded?\n",
    "                            )"
   ]
  },
  {
   "cell_type": "code",
   "execution_count": 61,
   "metadata": {},
   "outputs": [
    {
     "data": {
      "text/plain": [
       "XGBClassifier(base_score=0.5, booster='gbtree', colsample_bylevel=1,\n",
       "       colsample_bynode=1, colsample_bytree=1, gamma=0.001, gpu_id=-1,\n",
       "       importance_type='gain', interaction_constraints='',\n",
       "       learning_rate=0.15, max_delta_step=0, max_depth=4,\n",
       "       min_child_weight=1, missing=None, monotone_constraints='()',\n",
       "       n_estimators=150, n_jobs=4, num_parallel_tree=1,\n",
       "       objective='binary:logistic', random_state=251120887, reg_alpha=1,\n",
       "       reg_lambda=0, scale_pos_weight=1, subsample=1, tree_method='exact',\n",
       "       validate_parameters=1, verbosity=1)"
      ]
     },
     "execution_count": 61,
     "metadata": {},
     "output_type": "execute_result"
    }
   ],
   "source": [
    "# Train over all training data.\n",
    "XGB_best.fit(train_noWoE.iloc[:, :-1], train_noWoE['Default'])"
   ]
  },
  {
   "cell_type": "code",
   "execution_count": 62,
   "metadata": {},
   "outputs": [
    {
     "name": "stderr",
     "output_type": "stream",
     "text": [
      "D:\\Work\\Anaconda\\lib\\site-packages\\sklearn\\preprocessing\\label.py:151: DeprecationWarning: The truth value of an empty array is ambiguous. Returning False, but in future this will result in an error. Use `array.size > 0` to check that an array is not empty.\n",
      "  if diff:\n"
     ]
    },
    {
     "data": {
      "image/png": "[encoded data removed]",
      "text/plain": [
       "<Figure size 720x504 with 2 Axes>"
      ]
     },
     "metadata": {},
     "output_type": "display_data"
    }
   ],
   "source": [
    "# Calculate probability\n",
    "XGBClassTest = XGB_best.predict(test_noWoE.iloc[:, :-1])\n",
    "xg_probs_test = XGB_best.predict_proba(test_noWoE.iloc[:, :-1])\n",
    "xg_probs_test = xg_probs_test[:, 1]\n",
    "\n",
    "# Calculate confusion matrix\n",
    "confusion_matrix_xgb = confusion_matrix(y_true = test_noWoE['Default'], \n",
    "                    y_pred = XGBClassTest)\n",
    "\n",
    "# Turn matrix to percentages\n",
    "confusion_matrix_xgb = confusion_matrix_xgb.astype('float') / confusion_matrix_xgb.sum(axis=1)[:, np.newaxis]\n",
    "\n",
    "# Turn to dataframe\n",
    "df_cm = pd.DataFrame(\n",
    "        confusion_matrix_xgb, index=['good', 'bad'], columns=['good', 'bad'], \n",
    ")\n",
    "\n",
    "# Parameters of the image\n",
    "figsize = (10,7)\n",
    "fontsize=14\n",
    "\n",
    "# Create image\n",
    "fig = plt.figure(figsize=figsize)\n",
    "heatmap = sns.heatmap(df_cm, annot=True, fmt='.2f')\n",
    "\n",
    "# Make it nicer\n",
    "heatmap.yaxis.set_ticklabels(heatmap.yaxis.get_ticklabels(), rotation=0, \n",
    "                             ha='right', fontsize=fontsize)\n",
    "heatmap.xaxis.set_ticklabels(heatmap.xaxis.get_ticklabels(), rotation=45,\n",
    "                             ha='right', fontsize=fontsize)\n",
    "\n",
    "# Add labels\n",
    "plt.ylabel('True label')\n",
    "plt.xlabel('Predicted label')\n",
    "\n",
    "# Plot!\n",
    "plt.show()"
   ]
  },
  {
   "cell_type": "markdown",
   "metadata": {},
   "source": [
    "Much worse than LR, the False Positives are too much (0.94)."
   ]
  },
  {
   "cell_type": "code",
   "execution_count": 63,
   "metadata": {},
   "outputs": [
    {
     "data": {
      "image/png": "[encoded data removed]",
      "text/plain": [
       "<Figure size 432x288 with 1 Axes>"
      ]
     },
     "metadata": {},
     "output_type": "display_data"
    }
   ],
   "source": [
    "# Calculate the ROC curve points\n",
    "fpr, tpr, thresholds = roc_curve(test_noWoE['Default'], \n",
    "                                 xg_probs_test)\n",
    "\n",
    "# Save the AUC in a variable to display it. Round it first\n",
    "auc = np.round(roc_auc_score(y_true = test_noWoE['Default'], \n",
    "                             y_score = xg_probs_test),\n",
    "               decimals = 3)\n",
    "\n",
    "# Create and show the plot\n",
    "plt.plot(fpr,tpr,label=\"AUC - XGBoosting = \" + str(auc))\n",
    "plt.legend(loc=4)\n",
    "plt.show()"
   ]
  },
  {
   "cell_type": "markdown",
   "metadata": {},
   "source": [
    "The AUC is good. So the AUC scores for LR, RF, and XGBoost are 0.746, 0.827 and 0.853. XGBoost is the best!"
   ]
  },
  {
   "cell_type": "markdown",
   "metadata": {},
   "source": [
    "## (5) Variable Importance"
   ]
  },
  {
   "cell_type": "markdown",
   "metadata": {},
   "source": [
    "Next we want to evaluate the variable importances of these models."
   ]
  },
  {
   "cell_type": "markdown",
   "metadata": {},
   "source": [
    "### Random Forest"
   ]
  },
  {
   "cell_type": "code",
   "execution_count": 64,
   "metadata": {},
   "outputs": [
    {
     "data": {
      "image/png": "[encoded data removed]",
      "text/plain": [
       "<Figure size 216x576 with 1 Axes>"
      ]
     },
     "metadata": {},
     "output_type": "display_data"
    }
   ],
   "source": [
    "# Plot variable importance\n",
    "importances = RFClassifier.feature_importances_\n",
    "indices = np.argsort(importances)[::-1] \n",
    "\n",
    "f, ax = plt.subplots(figsize=(3, 8))\n",
    "plt.title(\"Variable Importance - Random Forest\")\n",
    "sns.set_color_codes(\"pastel\")\n",
    "sns.barplot(y=[train_noWoE.iloc[:, :-1].columns[i] for i in indices], x=importances[indices], \n",
    "            label=\"Total\", color=\"b\")\n",
    "ax.set(ylabel=\"Variable\",\n",
    "       xlabel=\"Variable Importance (Gini)\")\n",
    "sns.despine(left=True, bottom=True)\n"
   ]
  },
  {
   "cell_type": "markdown",
   "metadata": {},
   "source": [
    "### XGBoost"
   ]
  },
  {
   "cell_type": "code",
   "execution_count": 65,
   "metadata": {},
   "outputs": [
    {
     "data": {
      "image/png": "[encoded data removed]",
      "text/plain": [
       "<Figure size 216x576 with 1 Axes>"
      ]
     },
     "metadata": {},
     "output_type": "display_data"
    }
   ],
   "source": [
    "# Plot variable importance\n",
    "importances = XGB_best.feature_importances_\n",
    "indices = np.argsort(importances)[::-1] \n",
    "\n",
    "f, ax = plt.subplots(figsize=(3, 8))\n",
    "plt.title(\"Variable Importance - XGBoosting\")\n",
    "sns.set_color_codes(\"pastel\")\n",
    "sns.barplot(y=[train_noWoE.iloc[:, :-1].columns[i] for i in indices], x=importances[indices], \n",
    "            label=\"Total\", color=\"b\")\n",
    "ax.set(ylabel=\"Variable\",\n",
    "       xlabel=\"Variable Importance (Gini)\")\n",
    "sns.despine(left=True, bottom=True)\n"
   ]
  },
  {
   "cell_type": "markdown",
   "metadata": {},
   "source": [
    "###  Scorecard"
   ]
  },
  {
   "cell_type": "code",
   "execution_count": 66,
   "metadata": {},
   "outputs": [
    {
     "data": {
      "text/html": [
       "<div>\n",
       "<style scoped>\n",
       "    .dataframe tbody tr th:only-of-type {\n",
       "        vertical-align: middle;\n",
       "    }\n",
       "\n",
       "    .dataframe tbody tr th {\n",
       "        vertical-align: top;\n",
       "    }\n",
       "\n",
       "    .dataframe thead th {\n",
       "        text-align: right;\n",
       "    }\n",
       "</style>\n",
       "<table border=\"1\" class=\"dataframe\">\n",
       "  <thead>\n",
       "    <tr style=\"text-align: right;\">\n",
       "      <th></th>\n",
       "      <th>variable</th>\n",
       "      <th>info_value</th>\n",
       "    </tr>\n",
       "  </thead>\n",
       "  <tbody>\n",
       "    <tr>\n",
       "      <th>2</th>\n",
       "      <td>fico_woe</td>\n",
       "      <td>0.519928</td>\n",
       "    </tr>\n",
       "    <tr>\n",
       "      <th>6</th>\n",
       "      <td>dt_first_pi_woe</td>\n",
       "      <td>0.185190</td>\n",
       "    </tr>\n",
       "    <tr>\n",
       "      <th>1</th>\n",
       "      <td>servicer_name_woe</td>\n",
       "      <td>0.162174</td>\n",
       "    </tr>\n",
       "    <tr>\n",
       "      <th>9</th>\n",
       "      <td>st_woe</td>\n",
       "      <td>0.160729</td>\n",
       "    </tr>\n",
       "    <tr>\n",
       "      <th>3</th>\n",
       "      <td>dti_woe</td>\n",
       "      <td>0.158976</td>\n",
       "    </tr>\n",
       "    <tr>\n",
       "      <th>0</th>\n",
       "      <td>cnt_borr_woe</td>\n",
       "      <td>0.152531</td>\n",
       "    </tr>\n",
       "    <tr>\n",
       "      <th>4</th>\n",
       "      <td>int_rt_woe</td>\n",
       "      <td>0.123810</td>\n",
       "    </tr>\n",
       "    <tr>\n",
       "      <th>7</th>\n",
       "      <td>cltv_woe</td>\n",
       "      <td>0.079670</td>\n",
       "    </tr>\n",
       "    <tr>\n",
       "      <th>5</th>\n",
       "      <td>ltv_woe</td>\n",
       "      <td>0.079478</td>\n",
       "    </tr>\n",
       "    <tr>\n",
       "      <th>8</th>\n",
       "      <td>mi_pct_woe</td>\n",
       "      <td>0.062753</td>\n",
       "    </tr>\n",
       "  </tbody>\n",
       "</table>\n",
       "</div>"
      ],
      "text/plain": [
       "            variable  info_value\n",
       "2           fico_woe    0.519928\n",
       "6    dt_first_pi_woe    0.185190\n",
       "1  servicer_name_woe    0.162174\n",
       "9             st_woe    0.160729\n",
       "3            dti_woe    0.158976\n",
       "0       cnt_borr_woe    0.152531\n",
       "4         int_rt_woe    0.123810\n",
       "7           cltv_woe    0.079670\n",
       "5            ltv_woe    0.079478\n",
       "8         mi_pct_woe    0.062753"
      ]
     },
     "execution_count": 66,
     "metadata": {},
     "output_type": "execute_result"
    }
   ],
   "source": [
    "sc.iv(train_woe, 'Default')"
   ]
  },
  {
   "cell_type": "markdown",
   "metadata": {},
   "source": [
    "### Two-cut-off point for scorecard"
   ]
  },
  {
   "cell_type": "code",
   "execution_count": null,
   "metadata": {},
   "outputs": [],
   "source": []
  }
 ],
 "metadata": {
  "kernelspec": {
   "display_name": "Python 3",
   "language": "python",
   "name": "python3"
  },
  "language_info": {
   "codemirror_mode": {
    "name": "ipython",
    "version": 3
   },
   "file_extension": ".py",
   "mimetype": "text/x-python",
   "name": "python",
   "nbconvert_exporter": "python",
   "pygments_lexer": "ipython3",
   "version": "3.8.8"
  }
 },
 "nbformat": 4,
 "nbformat_minor": 4
}
